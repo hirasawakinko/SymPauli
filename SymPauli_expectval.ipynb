{
 "cells": [
  {
   "cell_type": "markdown",
   "id": "64da6cf4-0946-4eb6-8386-0ab77556be96",
   "metadata": {},
   "source": [
    "# SymPauli_expect\n",
    "\n",
    "Expectation Value of a Pauli Sum is as the Trace of PauliMatrix * DensityMatrix\n",
    "\n",
    "$ PauliSum = \\sum_{i} \\ p_i \\ P_i $\n",
    "\n",
    "$ DensityMatrix = \\sum_{j k} \\ l_j r_k \\ | L_j > < R_k | $\n",
    "\n",
    "Thus\n",
    "\n",
    "$ ExpectationValue = Tr(\\ \\sum_{i j k} \\ p_j l_j r_k \\ P_i | L_j > < R_k | \\ ) $\n",
    "\n",
    "While $ P_i $ is a PauliOperator (matrix) hence $ P_i | L_j > $ is becoming a new vector, it then perform the outer product with $ < R_k | $\n",
    "\n",
    "However, for finding the Trace, all you need to do is to sum the diagonal components of the matrix.\n",
    "\n",
    "Therefore everything outside of diagonal path can be ignored.\n",
    "\n",
    "Which leads to:\n",
    "\n",
    "$ ExpectationValue = \\sum_{i j k} \\ p_j l_j r_k \\ P_i | L_j > < R_k | \\ [\\ iff \\ P_i | L_j > == R_k \\ ] $"
   ]
  },
  {
   "cell_type": "code",
   "execution_count": 1,
   "id": "e741037c-24aa-4578-8106-7025325bcd86",
   "metadata": {
    "execution": {
     "iopub.execute_input": "2022-11-10T14:51:16.369386Z",
     "iopub.status.busy": "2022-11-10T14:51:16.369386Z",
     "iopub.status.idle": "2022-11-10T14:51:16.418386Z",
     "shell.execute_reply": "2022-11-10T14:51:16.418386Z",
     "shell.execute_reply.started": "2022-11-10T14:51:16.369386Z"
    }
   },
   "outputs": [],
   "source": [
    "from IPython.core.interactiveshell import InteractiveShell\n",
    "InteractiveShell.ast_node_interactivity = \"all\""
   ]
  },
  {
   "cell_type": "code",
   "execution_count": 2,
   "id": "f7d9b000-15e5-4c96-af51-326c3f90c3b3",
   "metadata": {
    "execution": {
     "iopub.execute_input": "2022-11-10T14:51:16.421385Z",
     "iopub.status.busy": "2022-11-10T14:51:16.421385Z",
     "iopub.status.idle": "2022-11-10T14:51:16.466384Z",
     "shell.execute_reply": "2022-11-10T14:51:16.466384Z",
     "shell.execute_reply.started": "2022-11-10T14:51:16.421385Z"
    },
    "tags": []
   },
   "outputs": [
    {
     "data": {
      "text/plain": [
       "[0, 1, 1, 0]"
      ]
     },
     "execution_count": 2,
     "metadata": {},
     "output_type": "execute_result"
    },
    {
     "data": {
      "text/plain": [
       "[0, 0, 1, 1]"
      ]
     },
     "execution_count": 2,
     "metadata": {},
     "output_type": "execute_result"
    },
    {
     "name": "stdout",
     "output_type": "stream",
     "text": [
      "diagonal > False\n"
     ]
    }
   ],
   "source": [
    "P = [0,1,2,3]\n",
    "L = [0,1,0,1]\n",
    "R = [0,1,1,0]\n",
    "\n",
    "# First find out bitflip Pauli\n",
    "bitflips = [ (p&1)^(p>>1) for p in P]\n",
    "bitflips\n",
    "\n",
    "# Then do P_i | L_j > to make new vector\n",
    "PL = [p^l for p,l in zip(bitflips, L)]\n",
    "PL\n",
    "\n",
    "if any( pl^r for pl,r in zip(PL,R) ):\n",
    "    print(f\"diagonal > False\")\n",
    "else:\n",
    "    print(f\"diagonal > True\")\n"
   ]
  },
  {
   "cell_type": "code",
   "execution_count": 3,
   "id": "2a8e88c0-b710-44e7-8f79-15a346752db6",
   "metadata": {
    "execution": {
     "iopub.execute_input": "2022-11-10T14:51:16.468386Z",
     "iopub.status.busy": "2022-11-10T14:51:16.468386Z",
     "iopub.status.idle": "2022-11-10T14:51:16.817026Z",
     "shell.execute_reply": "2022-11-10T14:51:16.817026Z",
     "shell.execute_reply.started": "2022-11-10T14:51:16.468386Z"
    },
    "tags": []
   },
   "outputs": [
    {
     "data": {
      "text/plain": [
       "array([0, 1, 1, 0], dtype=uint8)"
      ]
     },
     "execution_count": 3,
     "metadata": {},
     "output_type": "execute_result"
    },
    {
     "data": {
      "text/plain": [
       "array([0, 0, 1, 1], dtype=uint8)"
      ]
     },
     "execution_count": 3,
     "metadata": {},
     "output_type": "execute_result"
    },
    {
     "data": {
      "text/plain": [
       "array([8, 4, 2, 1], dtype=int32)"
      ]
     },
     "execution_count": 3,
     "metadata": {},
     "output_type": "execute_result"
    },
    {
     "data": {
      "text/plain": [
       "array([2, 1], dtype=int32)"
      ]
     },
     "execution_count": 3,
     "metadata": {},
     "output_type": "execute_result"
    },
    {
     "data": {
      "text/plain": [
       "3"
      ]
     },
     "execution_count": 3,
     "metadata": {},
     "output_type": "execute_result"
    },
    {
     "data": {
      "text/plain": [
       "array([0, 0, 0, 1, 0, 0, 0, 0, 0, 0, 0, 0, 0, 0, 0, 0], dtype=uint8)"
      ]
     },
     "execution_count": 3,
     "metadata": {},
     "output_type": "execute_result"
    },
    {
     "data": {
      "text/plain": [
       "array([4, 2], dtype=int32)"
      ]
     },
     "execution_count": 3,
     "metadata": {},
     "output_type": "execute_result"
    },
    {
     "data": {
      "text/plain": [
       "6"
      ]
     },
     "execution_count": 3,
     "metadata": {},
     "output_type": "execute_result"
    },
    {
     "data": {
      "text/plain": [
       "array([0, 0, 0, 0, 0, 0, 1, 0, 0, 0, 0, 0, 0, 0, 0, 0], dtype=uint8)"
      ]
     },
     "execution_count": 3,
     "metadata": {},
     "output_type": "execute_result"
    },
    {
     "data": {
      "text/plain": [
       "array([[0, 0, 0, 0, 0, 0, 0, 0, 0, 0, 0, 0, 0, 0, 0, 0],\n",
       "       [0, 0, 0, 0, 0, 0, 0, 0, 0, 0, 0, 0, 0, 0, 0, 0],\n",
       "       [0, 0, 0, 0, 0, 0, 0, 0, 0, 0, 0, 0, 0, 0, 0, 0],\n",
       "       [0, 0, 0, 0, 0, 0, 1, 0, 0, 0, 0, 0, 0, 0, 0, 0],\n",
       "       [0, 0, 0, 0, 0, 0, 0, 0, 0, 0, 0, 0, 0, 0, 0, 0],\n",
       "       [0, 0, 0, 0, 0, 0, 0, 0, 0, 0, 0, 0, 0, 0, 0, 0],\n",
       "       [0, 0, 0, 0, 0, 0, 0, 0, 0, 0, 0, 0, 0, 0, 0, 0],\n",
       "       [0, 0, 0, 0, 0, 0, 0, 0, 0, 0, 0, 0, 0, 0, 0, 0],\n",
       "       [0, 0, 0, 0, 0, 0, 0, 0, 0, 0, 0, 0, 0, 0, 0, 0],\n",
       "       [0, 0, 0, 0, 0, 0, 0, 0, 0, 0, 0, 0, 0, 0, 0, 0],\n",
       "       [0, 0, 0, 0, 0, 0, 0, 0, 0, 0, 0, 0, 0, 0, 0, 0],\n",
       "       [0, 0, 0, 0, 0, 0, 0, 0, 0, 0, 0, 0, 0, 0, 0, 0],\n",
       "       [0, 0, 0, 0, 0, 0, 0, 0, 0, 0, 0, 0, 0, 0, 0, 0],\n",
       "       [0, 0, 0, 0, 0, 0, 0, 0, 0, 0, 0, 0, 0, 0, 0, 0],\n",
       "       [0, 0, 0, 0, 0, 0, 0, 0, 0, 0, 0, 0, 0, 0, 0, 0],\n",
       "       [0, 0, 0, 0, 0, 0, 0, 0, 0, 0, 0, 0, 0, 0, 0, 0]], dtype=uint8)"
      ]
     },
     "execution_count": 3,
     "metadata": {},
     "output_type": "execute_result"
    },
    {
     "data": {
      "text/plain": [
       "0"
      ]
     },
     "execution_count": 3,
     "metadata": {},
     "output_type": "execute_result"
    }
   ],
   "source": [
    "# Now we verify this by actually computing the matrix representation\n",
    "import numpy as np\n",
    "import numexpr as ne\n",
    "\n",
    "P = np.array([0,1,2,3], dtype='uint8')\n",
    "L = np.array([0,1,0,1], dtype='uint8')\n",
    "R = np.array([0,1,1,0], dtype='uint8')\n",
    "\n",
    "# First find out bitflip Pauli\n",
    "bitflips = (P&1) ^ (P>>1)\n",
    "bitflips\n",
    "\n",
    "PL = bitflips ^ L\n",
    "PL\n",
    "\n",
    "# Since this a 4qubit system, lets expand the vector\n",
    "ref = (2**np.arange(4))[::-1]\n",
    "ref\n",
    "\n",
    "PLvec = np.zeros(2**4, dtype='uint8')\n",
    "PLval = ref[PL.astype(bool)]\n",
    "PLval\n",
    "PLval = PLval.sum()\n",
    "PLval\n",
    "PLvec[PLval] = 1\n",
    "PLvec\n",
    "\n",
    "Rvec = np.zeros(2**4, dtype='uint8')\n",
    "Rval = ref[R.astype(bool)]\n",
    "Rval\n",
    "Rval = Rval.sum()\n",
    "Rval\n",
    "Rvec[Rval] = 1\n",
    "Rvec\n",
    "\n",
    "PLRmatrix = np.outer(PLvec, Rvec)\n",
    "PLRmatrix\n",
    "\n",
    "np.trace(PLRmatrix)"
   ]
  },
  {
   "cell_type": "markdown",
   "id": "015af7d5-3321-4451-82e6-42558a546981",
   "metadata": {},
   "source": [
    "# This proves the theory. So all you need to do is stack 3 for loops together.\n",
    "\n",
    "Actually you can do 2 for loops.\n",
    "\n",
    "Since the last step is to find if PL == R, we can do a hashtable check to accomplish this goal.\n",
    "\n",
    "If there do no exist exact same state as PL in R set, automatically means that for every r in R we obtain zero."
   ]
  },
  {
   "cell_type": "code",
   "execution_count": 4,
   "id": "d21a8be2-2fc6-458d-b0e5-1a7f05e680a9",
   "metadata": {
    "execution": {
     "iopub.execute_input": "2022-11-10T14:51:16.819027Z",
     "iopub.status.busy": "2022-11-10T14:51:16.819027Z",
     "iopub.status.idle": "2022-11-10T14:51:16.865023Z",
     "shell.execute_reply": "2022-11-10T14:51:16.865023Z",
     "shell.execute_reply.started": "2022-11-10T14:51:16.819027Z"
    },
    "tags": []
   },
   "outputs": [],
   "source": [
    "# assume that you have already done encoding IXYZ into 0123\n",
    "pauli_list = dict() # { binary pauli as tuple : coefficient }\n",
    "left_state = dict() # { state as tuple : coefficient }\n",
    "right_state = dict() # { state as tuple : coefficient }\n",
    "expect_val = 0\n",
    "\n",
    "# This is how you compute the coefficient for PL\n",
    "# [ I X Y Z]\n",
    "from operator import itemgetter as itg\n",
    "from operator import mul\n",
    "from functools import reduce\n",
    "pl_coef = [None, None, [1j, -1j], [1, -1]]\n",
    "\n",
    "for P, cP in pauli_list:\n",
    "    #print(f\"{P, cP = }\")\n",
    "    bitflips = [ (p&1)^(p>>1) for p in P ]\n",
    "\n",
    "    for L, cL in left_state:\n",
    "        #print(f\"{L, cL = }\")\n",
    "        PL = tuple(p^l for p,l in zip(bitflips, L))\n",
    "\n",
    "        # This also check whether there is a pl==r\n",
    "        # At the sametime we can obtain the coefficient\n",
    "        cR = right_state.get(PL, None)\n",
    "        if cR is not None:\n",
    "            expect_val +=  cP * cL * cR * reduce(mul, (pl_coef[p][l] for p,l in zip(P,L) if p>1), 1)\n",
    "        else:\n",
    "            #print(PL, 'unfound')\n",
    "\n",
    "print(f\"{expect_val = }\")"
   ]
  },
  {
   "cell_type": "markdown",
   "id": "ebc73ded-0e31-4752-874d-a25789c6dcf5",
   "metadata": {},
   "source": [
    "# Benchmarking"
   ]
  },
  {
   "cell_type": "code",
   "execution_count": 135,
   "id": "ba05deba-275a-4257-90dc-0acaff24136e",
   "metadata": {
    "execution": {
     "iopub.execute_input": "2022-11-10T15:39:08.273429Z",
     "iopub.status.busy": "2022-11-10T15:39:08.273429Z",
     "iopub.status.idle": "2022-11-10T15:39:11.101357Z",
     "shell.execute_reply": "2022-11-10T15:39:11.101357Z",
     "shell.execute_reply.started": "2022-11-10T15:39:08.273429Z"
    },
    "tags": []
   },
   "outputs": [],
   "source": [
    "# Benchmark for chain multiplication\n",
    "\n",
    "import numpy as np\n",
    "\n",
    "size = 60000\n",
    "n_qubits = 20\n",
    "np.random.seed = 100\n",
    "\n",
    "testP = np.random.randint(0, 4, (size, n_qubits), dtype='uint8')\n",
    "#testC = np.ones(size)\n",
    "testC = np.random.normal(-1, 1, size)\n",
    "\n",
    "from openfermion import QubitOperator as QO\n",
    "control_data = []\n",
    "for i,(paulis, coef) in enumerate(zip(testP, testC)):\n",
    "    term = tuple( (i, chr(87+p)) for i,p in enumerate(paulis) if p )\n",
    "    control_data.append(QO(term, coef))\n",
    "#print(control_data[:10])\n",
    "\n",
    "import numpy as np\n",
    "experiment_data = []\n",
    "for i, (coef, paulis) in enumerate(zip(testC, testP)):\n",
    "    experiment_data.append([tuple(p for p in paulis), coef])\n",
    "experiment_data = tuple(experiment_data)\n",
    "#print(experiment_data[:10])"
   ]
  },
  {
   "cell_type": "code",
   "execution_count": 136,
   "id": "9af97c88-1f8b-4044-8d14-e3f31e03dbe8",
   "metadata": {
    "execution": {
     "iopub.execute_input": "2022-11-10T15:39:11.103358Z",
     "iopub.status.busy": "2022-11-10T15:39:11.103358Z",
     "iopub.status.idle": "2022-11-10T15:39:11.191003Z",
     "shell.execute_reply": "2022-11-10T15:39:11.191003Z",
     "shell.execute_reply.started": "2022-11-10T15:39:11.103358Z"
    },
    "tags": []
   },
   "outputs": [
    {
     "data": {
      "text/plain": [
       "array([[1, 0, 0, 0, 1, 1, 1, 2, 0, 1, 1, 1, 3, 3, 3, 2, 2, 2, 0, 3],\n",
       "       [3, 3, 3, 1, 0, 2, 1, 1, 3, 1, 2, 3, 0, 1, 1, 1, 2, 1, 1, 3]],\n",
       "      dtype=uint8)"
      ]
     },
     "execution_count": 136,
     "metadata": {},
     "output_type": "execute_result"
    },
    {
     "name": "stdout",
     "output_type": "stream",
     "text": [
      "[(1, 0, 0, 0, 1, 1, 1, 2, 0, 1, 1, 1, 3, 3, 3, 2, 2, 2, 0, 3), -1.6435345149814666]\n"
     ]
    }
   ],
   "source": [
    "testP[:2]\n",
    "print(experiment_data[0])"
   ]
  },
  {
   "cell_type": "code",
   "execution_count": 137,
   "id": "e0a65bc1-fe93-4f09-b442-03a324dc33ac",
   "metadata": {
    "execution": {
     "iopub.execute_input": "2022-11-10T15:39:11.191003Z",
     "iopub.status.busy": "2022-11-10T15:39:11.191003Z",
     "iopub.status.idle": "2022-11-10T15:39:11.321168Z",
     "shell.execute_reply": "2022-11-10T15:39:11.321168Z",
     "shell.execute_reply.started": "2022-11-10T15:39:11.191003Z"
    },
    "tags": []
   },
   "outputs": [
    {
     "data": {
      "text/plain": [
       "0.0039062499999999957"
      ]
     },
     "execution_count": 137,
     "metadata": {},
     "output_type": "execute_result"
    },
    {
     "name": "stdout",
     "output_type": "stream",
     "text": [
      "((1, 0, 0, 0, 1, 1, 1, 1, 0, 0, 1, 1, 1, 0, 1, 1, 1, 1, 1, 0), 0.0039062499999999957)\n",
      "((0, 0, 1, 0, 0, 0, 1, 0, 0, 0, 0, 1, 0, 0, 0, 1, 1, 1, 0, 1), 0.0039062499999999957)\n",
      "((0, 1, 0, 0, 1, 0, 0, 0, 0, 1, 1, 1, 1, 0, 0, 0, 1, 1, 0, 0), 0.0039062499999999957)\n",
      "((1, 0, 1, 0, 0, 1, 0, 1, 1, 0, 1, 1, 0, 0, 0, 0, 0, 0, 0, 1), 0.0039062499999999957)\n",
      "((0, 1, 1, 1, 0, 0, 0, 0, 0, 1, 1, 1, 0, 1, 1, 1, 1, 0, 0, 1), 0.0039062499999999957)\n",
      "((0, 1, 0, 0, 0, 1, 0, 1, 0, 0, 0, 1, 0, 0, 1, 0, 1, 0, 1, 1), 0.0039062499999999957)\n",
      "((0, 1, 0, 1, 0, 0, 1, 0, 0, 1, 1, 0, 1, 0, 1, 0, 1, 1, 0, 0), 0.0039062499999999957)\n",
      "((0, 1, 1, 1, 0, 0, 0, 1, 0, 0, 1, 0, 0, 0, 0, 0, 0, 0, 1, 1), 0.0039062499999999957)\n",
      "((1, 1, 0, 0, 1, 1, 0, 0, 1, 0, 1, 0, 0, 1, 0, 0, 0, 0, 1, 0), 0.0039062499999999957)\n",
      "((1, 0, 1, 1, 0, 0, 1, 0, 0, 1, 0, 0, 1, 1, 0, 0, 1, 0, 0, 1), 0.0039062499999999957)\n",
      "((0, 0, 0, 1, 0, 0, 0, 1, 1, 1, 1, 0, 1, 0, 0, 0, 0, 0, 0, 0), 0.0039062499999999957)\n",
      "((0, 0, 1, 1, 0, 1, 1, 1, 1, 1, 1, 1, 0, 1, 1, 1, 0, 0, 1, 1), 0.0039062499999999957)\n",
      "((0, 0, 0, 1, 1, 1, 0, 1, 0, 0, 1, 1, 0, 1, 0, 1, 0, 0, 1, 0), 0.0039062499999999957)\n",
      "((1, 1, 1, 1, 1, 0, 1, 0, 0, 0, 1, 0, 0, 0, 0, 1, 0, 0, 1, 1), 0.0039062499999999957)\n",
      "((1, 1, 0, 1, 1, 0, 1, 1, 0, 1, 1, 0, 1, 1, 0, 1, 0, 1, 1, 0), 0.0039062499999999957)\n",
      "((0, 0, 0, 0, 0, 1, 0, 1, 0, 0, 1, 1, 0, 1, 0, 1, 0, 0, 1, 1), 0.0039062499999999957)\n",
      "((1, 1, 1, 1, 1, 1, 0, 0, 1, 0, 0, 1, 0, 1, 1, 0, 0, 1, 0, 1), 0.0039062499999999957)\n",
      "((0, 1, 0, 1, 0, 0, 1, 0, 0, 1, 1, 0, 0, 1, 0, 0, 1, 0, 1, 0), 0.0039062499999999957)\n",
      "((0, 1, 1, 1, 0, 1, 0, 0, 0, 0, 1, 0, 0, 0, 1, 0, 1, 0, 1, 0), 0.0039062499999999957)\n",
      "((1, 1, 0, 1, 1, 0, 0, 1, 0, 1, 0, 1, 1, 0, 0, 1, 0, 1, 1, 1), 0.0039062499999999957)\n",
      "((0, 1, 0, 0, 1, 1, 0, 1, 1, 0, 0, 1, 0, 0, 0, 0, 1, 1, 0, 1), 0.0039062499999999957)\n",
      "((1, 1, 1, 0, 0, 1, 0, 1, 0, 1, 0, 1, 0, 0, 1, 1, 1, 1, 1, 0), 0.0039062499999999957)\n",
      "((0, 0, 0, 1, 1, 0, 0, 0, 1, 1, 1, 1, 0, 0, 1, 1, 0, 0, 0, 1), 0.0039062499999999957)\n",
      "((1, 0, 0, 1, 0, 0, 0, 1, 1, 0, 0, 1, 0, 0, 0, 1, 0, 1, 1, 1), 0.0039062499999999957)\n",
      "((1, 0, 0, 0, 1, 1, 1, 0, 1, 0, 0, 1, 1, 1, 1, 0, 0, 1, 0, 0), 0.0039062499999999957)\n",
      "((0, 0, 1, 1, 0, 0, 0, 1, 1, 0, 1, 0, 0, 1, 1, 1, 0, 0, 0, 0), 0.0039062499999999957)\n",
      "((1, 1, 1, 0, 0, 1, 1, 0, 0, 1, 1, 0, 1, 0, 0, 0, 0, 1, 0, 1), 0.0039062499999999957)\n",
      "((0, 1, 0, 0, 0, 1, 0, 1, 1, 0, 0, 1, 1, 0, 0, 1, 0, 0, 1, 0), 0.0039062499999999957)\n",
      "((1, 0, 0, 0, 0, 1, 0, 1, 1, 0, 1, 0, 1, 1, 0, 1, 1, 0, 0, 0), 0.0039062499999999957)\n",
      "((1, 0, 0, 1, 0, 1, 1, 0, 0, 0, 1, 0, 1, 0, 0, 1, 1, 1, 1, 0), 0.0039062499999999957)\n",
      "((0, 0, 0, 0, 1, 1, 0, 1, 1, 1, 0, 0, 1, 0, 0, 0, 1, 1, 1, 0), 0.0039062499999999957)\n",
      "((1, 1, 1, 1, 1, 1, 0, 1, 0, 0, 0, 1, 0, 1, 1, 0, 0, 0, 1, 1), 0.0039062499999999957)\n"
     ]
    }
   ],
   "source": [
    "n_states = 32\n",
    "\n",
    "denominator = 1/np.sqrt(2)**(n_states/2)\n",
    "denominator\n",
    "\n",
    "rand_state = np.random.randint(0, 2, (n_states, n_qubits), dtype='uint8').tolist()\n",
    "\n",
    "pauli_list = experiment_data\n",
    "left_state = tuple(\n",
    "    (tuple(s), denominator)\n",
    "    for s in rand_state\n",
    "    )\n",
    "right_state = dict(left_state)\n",
    "\n",
    "for row in left_state:\n",
    "    print(row)"
   ]
  },
  {
   "cell_type": "code",
   "execution_count": 138,
   "id": "0a98a136-e0d7-4fd1-adfa-a62e8bcbae4f",
   "metadata": {
    "execution": {
     "iopub.execute_input": "2022-11-10T15:39:11.323169Z",
     "iopub.status.busy": "2022-11-10T15:39:11.323169Z",
     "iopub.status.idle": "2022-11-10T15:39:20.182183Z",
     "shell.execute_reply": "2022-11-10T15:39:20.182183Z",
     "shell.execute_reply.started": "2022-11-10T15:39:11.323169Z"
    },
    "tags": []
   },
   "outputs": [
    {
     "name": "stdout",
     "output_type": "stream",
     "text": [
      "expect_val = (3.366145416817976e-05+0j)\n",
      "CPU times: total: 8.75 s\n",
      "Wall time: 8.75 s\n"
     ]
    }
   ],
   "source": [
    "%%time\n",
    "\n",
    "# assume that you have already done encoding IXYZ into 0123\n",
    "#pauli_list = dict() # { binary pauli as tuple : coefficient }\n",
    "#left_state = dict() # { state as tuple : coefficient }\n",
    "#right_state = dict() # { state as tuple : coefficient }\n",
    "expect_val = 0\n",
    "\n",
    "# This is how you compute the coefficient for PL\n",
    "# [ I X Y Z]\n",
    "from operator import itemgetter as itg\n",
    "from operator import mul\n",
    "from functools import reduce\n",
    "pl_coef = [None, None, [1j, -1j], [1, -1]]\n",
    "\n",
    "for P, cP in pauli_list:\n",
    "    #print(f\"{P, cP = }\")\n",
    "    bitflips = [ (p&1)^(p>>1) for p in P ]\n",
    "\n",
    "    for L, cL in left_state:\n",
    "        #print(f\"{L, cL = }\")\n",
    "        PL = tuple(p^l for p,l in zip(bitflips, L))\n",
    "\n",
    "        # This also check whether there is a pl==r\n",
    "        # At the sametime we can obtain the coefficient\n",
    "        cR = right_state.get(PL, None)\n",
    "        if cR is not None:\n",
    "            expect_val +=  cP * cL * cR * reduce(mul, (pl_coef[p][l] for p,l in zip(P,L) if p>1), 1)\n",
    "        #else:\n",
    "        #    print(PL, 'unfound')\n",
    "\n",
    "print(f\"{expect_val = }\")"
   ]
  },
  {
   "cell_type": "code",
   "execution_count": null,
   "id": "d3ee65c6-8a99-4cf8-b283-85960b2fb7bf",
   "metadata": {},
   "outputs": [],
   "source": []
  }
 ],
 "metadata": {
  "kernelspec": {
   "display_name": "mkl",
   "language": "python",
   "name": "mkl"
  },
  "language_info": {
   "codemirror_mode": {
    "name": "ipython",
    "version": 3
   },
   "file_extension": ".py",
   "mimetype": "text/x-python",
   "name": "python",
   "nbconvert_exporter": "python",
   "pygments_lexer": "ipython3",
   "version": "3.10.4"
  }
 },
 "nbformat": 4,
 "nbformat_minor": 5
}
