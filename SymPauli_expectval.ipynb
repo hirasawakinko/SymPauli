{
 "cells": [
  {
   "cell_type": "markdown",
   "id": "64da6cf4-0946-4eb6-8386-0ab77556be96",
   "metadata": {},
   "source": [
    "# SymPauli_expect\n",
    "\n",
    "Expectation Value of a Pauli Sum is as the Trace of PauliMatrix * DensityMatrix\n",
    "\n",
    "$ PauliSum = \\sum_{i} \\ p_i \\ P_i $\n",
    "\n",
    "$ DensityMatrix = \\sum_{j k} \\ l_j r_k \\ | L_j > < R_k | $\n",
    "\n",
    "Thus\n",
    "\n",
    "$ ExpectationValue = Tr(\\ \\sum_{i j k} \\ p_j l_j r_k \\ P_i | L_j > < R_k | \\ ) $\n",
    "\n",
    "While $ P_i $ is a PauliOperator (matrix) hence $ P_i | L_j > $ is becoming a new vector, it then perform the outer product with $ < R_k | $\n",
    "\n",
    "However, for finding the Trace, all you need to do is to sum the diagonal components of the matrix.\n",
    "\n",
    "Therefore everything outside of diagonal path can be ignored.\n",
    "\n",
    "Which leads to:\n",
    "\n",
    "$ ExpectationValue = \\sum_{i j k} \\ p_j l_j r_k \\ P_i | L_j > < R_k | \\ [\\ iff \\ P_i | L_j > == R_k \\ ] $"
   ]
  },
  {
   "cell_type": "code",
   "execution_count": 1,
   "id": "e741037c-24aa-4578-8106-7025325bcd86",
   "metadata": {
    "execution": {
     "iopub.execute_input": "2022-11-11T06:13:51.180325Z",
     "iopub.status.busy": "2022-11-11T06:13:51.180325Z",
     "iopub.status.idle": "2022-11-11T06:13:51.240325Z",
     "shell.execute_reply": "2022-11-11T06:13:51.239325Z",
     "shell.execute_reply.started": "2022-11-11T06:13:51.180325Z"
    }
   },
   "outputs": [],
   "source": [
    "from IPython.core.interactiveshell import InteractiveShell\n",
    "InteractiveShell.ast_node_interactivity = \"all\""
   ]
  },
  {
   "cell_type": "code",
   "execution_count": 2,
   "id": "f7d9b000-15e5-4c96-af51-326c3f90c3b3",
   "metadata": {
    "execution": {
     "iopub.execute_input": "2022-11-11T06:13:51.242326Z",
     "iopub.status.busy": "2022-11-11T06:13:51.242326Z",
     "iopub.status.idle": "2022-11-11T06:13:51.288326Z",
     "shell.execute_reply": "2022-11-11T06:13:51.287328Z",
     "shell.execute_reply.started": "2022-11-11T06:13:51.242326Z"
    },
    "tags": []
   },
   "outputs": [
    {
     "data": {
      "text/plain": [
       "[0, 1, 1, 0]"
      ]
     },
     "execution_count": 2,
     "metadata": {},
     "output_type": "execute_result"
    },
    {
     "data": {
      "text/plain": [
       "[0, 0, 1, 1]"
      ]
     },
     "execution_count": 2,
     "metadata": {},
     "output_type": "execute_result"
    },
    {
     "name": "stdout",
     "output_type": "stream",
     "text": [
      "diagonal > False\n"
     ]
    }
   ],
   "source": [
    "P = [0,1,2,3]\n",
    "L = [0,1,0,1]\n",
    "R = [0,1,1,0]\n",
    "\n",
    "# First find out bitflip Pauli\n",
    "bitflips = [ (p&1)^(p>>1) for p in P]\n",
    "bitflips\n",
    "\n",
    "# Then do P_i | L_j > to make new vector\n",
    "PL = [p^l for p,l in zip(bitflips, L)]\n",
    "PL\n",
    "\n",
    "if any( pl^r for pl,r in zip(PL,R) ):\n",
    "    print(f\"diagonal > False\")\n",
    "else:\n",
    "    print(f\"diagonal > True\")\n"
   ]
  },
  {
   "cell_type": "code",
   "execution_count": 3,
   "id": "2a8e88c0-b710-44e7-8f79-15a346752db6",
   "metadata": {
    "execution": {
     "iopub.execute_input": "2022-11-11T06:13:51.289326Z",
     "iopub.status.busy": "2022-11-11T06:13:51.289326Z",
     "iopub.status.idle": "2022-11-11T06:13:51.747318Z",
     "shell.execute_reply": "2022-11-11T06:13:51.747318Z",
     "shell.execute_reply.started": "2022-11-11T06:13:51.289326Z"
    },
    "tags": []
   },
   "outputs": [
    {
     "data": {
      "text/plain": [
       "array([0, 1, 1, 0], dtype=uint8)"
      ]
     },
     "execution_count": 3,
     "metadata": {},
     "output_type": "execute_result"
    },
    {
     "data": {
      "text/plain": [
       "array([0, 0, 1, 1], dtype=uint8)"
      ]
     },
     "execution_count": 3,
     "metadata": {},
     "output_type": "execute_result"
    },
    {
     "data": {
      "text/plain": [
       "array([8, 4, 2, 1], dtype=int32)"
      ]
     },
     "execution_count": 3,
     "metadata": {},
     "output_type": "execute_result"
    },
    {
     "data": {
      "text/plain": [
       "array([2, 1], dtype=int32)"
      ]
     },
     "execution_count": 3,
     "metadata": {},
     "output_type": "execute_result"
    },
    {
     "data": {
      "text/plain": [
       "3"
      ]
     },
     "execution_count": 3,
     "metadata": {},
     "output_type": "execute_result"
    },
    {
     "data": {
      "text/plain": [
       "array([0, 0, 0, 1, 0, 0, 0, 0, 0, 0, 0, 0, 0, 0, 0, 0], dtype=uint8)"
      ]
     },
     "execution_count": 3,
     "metadata": {},
     "output_type": "execute_result"
    },
    {
     "data": {
      "text/plain": [
       "array([4, 2], dtype=int32)"
      ]
     },
     "execution_count": 3,
     "metadata": {},
     "output_type": "execute_result"
    },
    {
     "data": {
      "text/plain": [
       "6"
      ]
     },
     "execution_count": 3,
     "metadata": {},
     "output_type": "execute_result"
    },
    {
     "data": {
      "text/plain": [
       "array([0, 0, 0, 0, 0, 0, 1, 0, 0, 0, 0, 0, 0, 0, 0, 0], dtype=uint8)"
      ]
     },
     "execution_count": 3,
     "metadata": {},
     "output_type": "execute_result"
    },
    {
     "data": {
      "text/plain": [
       "array([[0, 0, 0, 0, 0, 0, 0, 0, 0, 0, 0, 0, 0, 0, 0, 0],\n",
       "       [0, 0, 0, 0, 0, 0, 0, 0, 0, 0, 0, 0, 0, 0, 0, 0],\n",
       "       [0, 0, 0, 0, 0, 0, 0, 0, 0, 0, 0, 0, 0, 0, 0, 0],\n",
       "       [0, 0, 0, 0, 0, 0, 1, 0, 0, 0, 0, 0, 0, 0, 0, 0],\n",
       "       [0, 0, 0, 0, 0, 0, 0, 0, 0, 0, 0, 0, 0, 0, 0, 0],\n",
       "       [0, 0, 0, 0, 0, 0, 0, 0, 0, 0, 0, 0, 0, 0, 0, 0],\n",
       "       [0, 0, 0, 0, 0, 0, 0, 0, 0, 0, 0, 0, 0, 0, 0, 0],\n",
       "       [0, 0, 0, 0, 0, 0, 0, 0, 0, 0, 0, 0, 0, 0, 0, 0],\n",
       "       [0, 0, 0, 0, 0, 0, 0, 0, 0, 0, 0, 0, 0, 0, 0, 0],\n",
       "       [0, 0, 0, 0, 0, 0, 0, 0, 0, 0, 0, 0, 0, 0, 0, 0],\n",
       "       [0, 0, 0, 0, 0, 0, 0, 0, 0, 0, 0, 0, 0, 0, 0, 0],\n",
       "       [0, 0, 0, 0, 0, 0, 0, 0, 0, 0, 0, 0, 0, 0, 0, 0],\n",
       "       [0, 0, 0, 0, 0, 0, 0, 0, 0, 0, 0, 0, 0, 0, 0, 0],\n",
       "       [0, 0, 0, 0, 0, 0, 0, 0, 0, 0, 0, 0, 0, 0, 0, 0],\n",
       "       [0, 0, 0, 0, 0, 0, 0, 0, 0, 0, 0, 0, 0, 0, 0, 0],\n",
       "       [0, 0, 0, 0, 0, 0, 0, 0, 0, 0, 0, 0, 0, 0, 0, 0]], dtype=uint8)"
      ]
     },
     "execution_count": 3,
     "metadata": {},
     "output_type": "execute_result"
    },
    {
     "data": {
      "text/plain": [
       "0"
      ]
     },
     "execution_count": 3,
     "metadata": {},
     "output_type": "execute_result"
    }
   ],
   "source": [
    "# Now we verify this by actually computing the matrix representation\n",
    "import numpy as np\n",
    "import numexpr as ne\n",
    "\n",
    "P = np.array([0,1,2,3], dtype='uint8')\n",
    "L = np.array([0,1,0,1], dtype='uint8')\n",
    "R = np.array([0,1,1,0], dtype='uint8')\n",
    "\n",
    "# First find out bitflip Pauli\n",
    "bitflips = (P&1) ^ (P>>1)\n",
    "bitflips\n",
    "\n",
    "PL = bitflips ^ L\n",
    "PL\n",
    "\n",
    "# Since this a 4qubit system, lets expand the vector\n",
    "ref = (2**np.arange(4))[::-1]\n",
    "ref\n",
    "\n",
    "PLvec = np.zeros(2**4, dtype='uint8')\n",
    "PLval = ref[PL.astype(bool)]\n",
    "PLval\n",
    "PLval = PLval.sum()\n",
    "PLval\n",
    "PLvec[PLval] = 1\n",
    "PLvec\n",
    "\n",
    "Rvec = np.zeros(2**4, dtype='uint8')\n",
    "Rval = ref[R.astype(bool)]\n",
    "Rval\n",
    "Rval = Rval.sum()\n",
    "Rval\n",
    "Rvec[Rval] = 1\n",
    "Rvec\n",
    "\n",
    "PLRmatrix = np.outer(PLvec, Rvec)\n",
    "PLRmatrix\n",
    "\n",
    "np.trace(PLRmatrix)"
   ]
  },
  {
   "cell_type": "markdown",
   "id": "015af7d5-3321-4451-82e6-42558a546981",
   "metadata": {},
   "source": [
    "# This proves the theory. So all you need to do is stack 3 for loops together.\n",
    "\n",
    "Actually you can do 2 for loops.\n",
    "\n",
    "Since the last step is to find if PL == R, we can do a hashtable check to accomplish this goal.\n",
    "\n",
    "If there do no exist exact same state as PL in R set, automatically means that for every r in R we obtain zero."
   ]
  },
  {
   "cell_type": "code",
   "execution_count": 4,
   "id": "d21a8be2-2fc6-458d-b0e5-1a7f05e680a9",
   "metadata": {
    "execution": {
     "iopub.execute_input": "2022-11-11T06:13:51.748322Z",
     "iopub.status.busy": "2022-11-11T06:13:51.748322Z",
     "iopub.status.idle": "2022-11-11T06:13:51.795319Z",
     "shell.execute_reply": "2022-11-11T06:13:51.795319Z",
     "shell.execute_reply.started": "2022-11-11T06:13:51.748322Z"
    },
    "tags": []
   },
   "outputs": [
    {
     "name": "stdout",
     "output_type": "stream",
     "text": [
      "expect_val = 0\n"
     ]
    }
   ],
   "source": [
    "# assume that you have already done encoding IXYZ into 0123\n",
    "pauli_list = dict() # { binary pauli as tuple : coefficient }\n",
    "left_state = dict() # { state as tuple : coefficient }\n",
    "right_state = dict() # { state as tuple : coefficient }\n",
    "expect_val = 0\n",
    "\n",
    "# This is how you compute the coefficient for PL\n",
    "# [ I X Y Z]\n",
    "from operator import itemgetter as itg\n",
    "from operator import mul\n",
    "from functools import reduce\n",
    "pl_coef = [None, None, [1j, -1j], [1, -1]]\n",
    "\n",
    "for P, cP in pauli_list:\n",
    "    #print(f\"{P, cP = }\")\n",
    "    bitflips = [ (p&1)^(p>>1) for p in P ]\n",
    "\n",
    "    for L, cL in left_state:\n",
    "        #print(f\"{L, cL = }\")\n",
    "        PL = tuple(p^l for p,l in zip(bitflips, L))\n",
    "\n",
    "        # This also check whether there is a pl==r\n",
    "        # At the sametime we can obtain the coefficient\n",
    "        cR = right_state.get(PL, None)\n",
    "        if cR is not None:\n",
    "            expect_val +=  cP * cL * cR * reduce(mul, (pl_coef[p][l] for p,l in zip(P,L) if p>1), 1)\n",
    "        #else:\n",
    "        #    print(PL, 'unfound')\n",
    "\n",
    "print(f\"{expect_val = }\")"
   ]
  },
  {
   "cell_type": "markdown",
   "id": "ebc73ded-0e31-4752-874d-a25789c6dcf5",
   "metadata": {},
   "source": [
    "# Benchmarking"
   ]
  },
  {
   "cell_type": "code",
   "execution_count": 5,
   "id": "ba05deba-275a-4257-90dc-0acaff24136e",
   "metadata": {
    "execution": {
     "iopub.execute_input": "2022-11-11T06:13:51.797320Z",
     "iopub.status.busy": "2022-11-11T06:13:51.797320Z",
     "iopub.status.idle": "2022-11-11T06:14:00.983736Z",
     "shell.execute_reply": "2022-11-11T06:14:00.983736Z",
     "shell.execute_reply.started": "2022-11-11T06:13:51.797320Z"
    },
    "tags": []
   },
   "outputs": [],
   "source": [
    "# Benchmark for chain multiplication\n",
    "\n",
    "import numpy as np\n",
    "\n",
    "size = 100000\n",
    "n_qubits = 12\n",
    "np.random.seed = 100\n",
    "\n",
    "testP = np.random.randint(0, 4, (size, n_qubits), dtype='uint8')\n",
    "#testC = np.ones(size)\n",
    "testC = np.random.normal(-1, 1, size)\n",
    "\n",
    "from openfermion import QubitOperator as QO\n",
    "control_data = []\n",
    "for i,(paulis, coef) in enumerate(zip(testP, testC)):\n",
    "    term = tuple( (i, chr(87+p)) for i,p in enumerate(paulis) if p )\n",
    "    control_data.append(QO(term, coef))\n",
    "#print(control_data[:10])\n",
    "\n",
    "import numpy as np\n",
    "experiment_data = []\n",
    "for i, (coef, paulis) in enumerate(zip(testC, testP)):\n",
    "    experiment_data.append([tuple(p for p in paulis), coef])\n",
    "experiment_data = tuple(experiment_data)\n",
    "#print(experiment_data[:10])"
   ]
  },
  {
   "cell_type": "code",
   "execution_count": 6,
   "id": "9af97c88-1f8b-4044-8d14-e3f31e03dbe8",
   "metadata": {
    "execution": {
     "iopub.execute_input": "2022-11-11T06:14:00.983736Z",
     "iopub.status.busy": "2022-11-11T06:14:00.983736Z",
     "iopub.status.idle": "2022-11-11T06:14:01.076998Z",
     "shell.execute_reply": "2022-11-11T06:14:01.076998Z",
     "shell.execute_reply.started": "2022-11-11T06:14:00.983736Z"
    },
    "tags": []
   },
   "outputs": [
    {
     "data": {
      "text/plain": [
       "array([[0, 3, 0, 3, 1, 0, 3, 3, 3, 0, 1, 0],\n",
       "       [3, 0, 0, 2, 0, 1, 2, 2, 3, 1, 0, 1]], dtype=uint8)"
      ]
     },
     "execution_count": 6,
     "metadata": {},
     "output_type": "execute_result"
    },
    {
     "name": "stdout",
     "output_type": "stream",
     "text": [
      "[(0, 3, 0, 3, 1, 0, 3, 3, 3, 0, 1, 0), -0.5801972024400194]\n"
     ]
    }
   ],
   "source": [
    "testP[:2]\n",
    "print(experiment_data[0])"
   ]
  },
  {
   "cell_type": "code",
   "execution_count": 7,
   "id": "e0a65bc1-fe93-4f09-b442-03a324dc33ac",
   "metadata": {
    "execution": {
     "iopub.execute_input": "2022-11-11T06:14:01.079996Z",
     "iopub.status.busy": "2022-11-11T06:14:01.079996Z",
     "iopub.status.idle": "2022-11-11T06:14:01.188998Z",
     "shell.execute_reply": "2022-11-11T06:14:01.188998Z",
     "shell.execute_reply.started": "2022-11-11T06:14:01.079996Z"
    },
    "tags": []
   },
   "outputs": [
    {
     "data": {
      "text/plain": [
       "0.0039062499999999957"
      ]
     },
     "execution_count": 7,
     "metadata": {},
     "output_type": "execute_result"
    },
    {
     "name": "stdout",
     "output_type": "stream",
     "text": [
      "((1, 0, 1, 1, 0, 1, 0, 0, 0, 0, 0, 0), 0.0039062499999999957)\n",
      "((0, 1, 0, 0, 0, 1, 1, 0, 1, 1, 0, 0), 0.0039062499999999957)\n",
      "((1, 0, 1, 1, 0, 1, 0, 0, 1, 0, 1, 0), 0.0039062499999999957)\n",
      "((0, 1, 0, 0, 0, 1, 1, 0, 0, 1, 1, 0), 0.0039062499999999957)\n",
      "((1, 1, 0, 1, 1, 0, 1, 0, 0, 1, 0, 1), 0.0039062499999999957)\n",
      "((0, 0, 0, 0, 0, 1, 0, 0, 1, 1, 1, 1), 0.0039062499999999957)\n",
      "((1, 0, 0, 0, 1, 0, 0, 0, 0, 1, 0, 0), 0.0039062499999999957)\n",
      "((0, 0, 1, 0, 0, 1, 1, 1, 0, 0, 1, 0), 0.0039062499999999957)\n",
      "((0, 1, 1, 0, 0, 0, 0, 1, 0, 0, 0, 0), 0.0039062499999999957)\n",
      "((0, 1, 1, 1, 0, 0, 0, 0, 0, 1, 1, 0), 0.0039062499999999957)\n",
      "((0, 1, 1, 0, 0, 1, 1, 1, 0, 1, 0, 0), 0.0039062499999999957)\n"
     ]
    }
   ],
   "source": [
    "n_states = 32\n",
    "\n",
    "denominator = 1/np.sqrt(2)**(n_states/2)\n",
    "denominator\n",
    "\n",
    "rand_state = np.random.randint(0, 2, (n_states, n_qubits), dtype='uint8').tolist()\n",
    "\n",
    "pauli_list = experiment_data\n",
    "left_state = tuple(\n",
    "    (tuple(s), denominator)\n",
    "    for s in rand_state\n",
    "    )\n",
    "\n",
    "count = 0\n",
    "for row in left_state:\n",
    "    print(row)\n",
    "    count += 1\n",
    "    if count > 10:\n",
    "        break\n",
    "\n",
    "right_state = dict(left_state)\n",
    "left_state = dict(left_state)\n",
    "pauli_list = dict(pauli_list)"
   ]
  },
  {
   "cell_type": "markdown",
   "id": "810a4ce1-802d-4905-9c73-4a6ef0162d76",
   "metadata": {},
   "source": [
    "## PurePython Speed"
   ]
  },
  {
   "cell_type": "code",
   "execution_count": 8,
   "id": "b71d72dd-2772-474c-9594-e55016fadea8",
   "metadata": {
    "execution": {
     "iopub.execute_input": "2022-11-11T06:14:01.190997Z",
     "iopub.status.busy": "2022-11-11T06:14:01.189997Z",
     "iopub.status.idle": "2022-11-11T06:14:01.284994Z",
     "shell.execute_reply": "2022-11-11T06:14:01.284994Z",
     "shell.execute_reply.started": "2022-11-11T06:14:01.190997Z"
    },
    "tags": []
   },
   "outputs": [
    {
     "name": "stdout",
     "output_type": "stream",
     "text": [
      "469\n",
      "(0, 1, 1, 1, 1, 0, 1, 0, 1, 1, 1, 0)\n",
      "(1, 0, 0, 1, 1, 0, 1, 0, 1, 1, 0, 0)\n",
      "(1, 0, 0, 1, 1, 0, 0, 1, 1, 0, 1, 0)\n",
      "(1, 1, 0, 1, 1, 0, 1, 1, 0, 0, 1, 1)\n",
      "(1, 0, 1, 0, 0, 1, 1, 1, 0, 1, 0, 0)\n",
      "(1, 0, 0, 0, 0, 1, 0, 1, 1, 1, 0, 0)\n",
      "CPU times: total: 0 ns\n",
      "Wall time: 2 ms\n"
     ]
    }
   ],
   "source": [
    "%%time\n",
    "valid_bitflips = set( tuple(l^r for l,r in zip(L,R)) for L in left_state for R in right_state )\n",
    "print(len(valid_bitflips))\n",
    "count = 0\n",
    "for row in valid_bitflips:\n",
    "    print(row)\n",
    "    count += 1\n",
    "    if count > 5:\n",
    "        break"
   ]
  },
  {
   "cell_type": "code",
   "execution_count": 9,
   "id": "79e588a9-216b-4062-8228-7a9943bca447",
   "metadata": {
    "execution": {
     "iopub.execute_input": "2022-11-11T06:14:01.286997Z",
     "iopub.status.busy": "2022-11-11T06:14:01.285995Z",
     "iopub.status.idle": "2022-11-11T06:14:05.824570Z",
     "shell.execute_reply": "2022-11-11T06:14:05.824570Z",
     "shell.execute_reply.started": "2022-11-11T06:14:01.286997Z"
    },
    "tags": []
   },
   "outputs": [
    {
     "name": "stdout",
     "output_type": "stream",
     "text": [
      "expect_val = (0.005508455687018302+0j)\n",
      "CPU times: total: 4.44 s\n",
      "Wall time: 4.44 s\n"
     ]
    }
   ],
   "source": [
    "%%time\n",
    "\n",
    "# assume that you have already done encoding IXYZ into 0123\n",
    "#pauli_list = dict() # { binary pauli as tuple : coefficient }\n",
    "#left_state = dict() # { state as tuple : coefficient }\n",
    "#right_state = dict() # { state as tuple : coefficient }\n",
    "expect_val = 0\n",
    "\n",
    "# This is how you compute the coefficient for PL\n",
    "# [ I X Y Z]\n",
    "from operator import itemgetter as itg\n",
    "from operator import mul\n",
    "from functools import reduce\n",
    "pl_coef = [None, None, [1j, -1j], [1, -1]]\n",
    "\n",
    "for P, cP in pauli_list.items():\n",
    "    #print(f\"{P, cP = }\")\n",
    "    bitflips = tuple( (p&1)^(p>>1) for p in P )\n",
    "    if bitflips in valid_bitflips:\n",
    "\n",
    "        for L, cL in left_state.items():\n",
    "            #print(f\"{L, cL = }\")\n",
    "            PL = tuple(p^l for p,l in zip(bitflips, L))\n",
    "\n",
    "            # This also check whether there is a pl==r\n",
    "            # At the sametime we can obtain the coefficient\n",
    "            cR = right_state.get(PL, None)\n",
    "            if cR is not None:\n",
    "                expect_val +=  cP * cL * cR * reduce(mul, (pl_coef[p][l] for p,l in zip(P,L) if p>1), 1)\n",
    "            #else:\n",
    "            #    print(PL, 'unfound')\n",
    "\n",
    "print(f\"{expect_val = }\")"
   ]
  },
  {
   "cell_type": "markdown",
   "id": "59f161fa-1b35-4884-b39b-9551610b4a17",
   "metadata": {},
   "source": [
    "## Binary Numpy Speed"
   ]
  },
  {
   "cell_type": "code",
   "execution_count": 10,
   "id": "fdd5735a-8aee-4631-b621-7750d1d1ac64",
   "metadata": {
    "execution": {
     "iopub.execute_input": "2022-11-11T06:14:05.826573Z",
     "iopub.status.busy": "2022-11-11T06:14:05.826573Z",
     "iopub.status.idle": "2022-11-11T06:14:05.920571Z",
     "shell.execute_reply": "2022-11-11T06:14:05.920571Z",
     "shell.execute_reply.started": "2022-11-11T06:14:05.826573Z"
    },
    "tags": []
   },
   "outputs": [],
   "source": [
    "def to_binary(arr):\n",
    "    bin_ref = (2**np.arange(arr.shape[-1], dtype=np.uint64))[::-1]\n",
    "    return np.dot(arr, bin_ref)"
   ]
  },
  {
   "cell_type": "code",
   "execution_count": 11,
   "id": "25787541-60a9-4850-b6a1-1f1a639894a5",
   "metadata": {
    "execution": {
     "iopub.execute_input": "2022-11-11T06:14:05.921573Z",
     "iopub.status.busy": "2022-11-11T06:14:05.921573Z",
     "iopub.status.idle": "2022-11-11T06:14:06.055626Z",
     "shell.execute_reply": "2022-11-11T06:14:06.055626Z",
     "shell.execute_reply.started": "2022-11-11T06:14:05.921573Z"
    },
    "tags": []
   },
   "outputs": [
    {
     "name": "stdout",
     "output_type": "stream",
     "text": [
      "CPU times: total: 46.9 ms\n",
      "Wall time: 48 ms\n"
     ]
    }
   ],
   "source": [
    "%%time\n",
    "left_state_np = np.array(list(left_state.keys()), dtype='uint8')\n",
    "right_state_np = np.array(list(right_state.keys()), dtype='uint8')\n",
    "pauli_list_np = np.array(list(pauli_list.keys()), dtype='uint8')"
   ]
  },
  {
   "cell_type": "code",
   "execution_count": 12,
   "id": "8bb635a6-7e2d-4378-b804-e6f9c838434d",
   "metadata": {
    "execution": {
     "iopub.execute_input": "2022-11-11T06:14:06.057629Z",
     "iopub.status.busy": "2022-11-11T06:14:06.056631Z",
     "iopub.status.idle": "2022-11-11T06:14:06.151627Z",
     "shell.execute_reply": "2022-11-11T06:14:06.151627Z",
     "shell.execute_reply.started": "2022-11-11T06:14:06.057629Z"
    },
    "tags": []
   },
   "outputs": [
    {
     "name": "stdout",
     "output_type": "stream",
     "text": [
      "469\n",
      "0 0b0\n",
      "10 0b1010\n",
      "2059 0b100000001011\n",
      "2060 0b100000001100\n",
      "2069 0b100000010101\n",
      "2070 0b100000010110\n",
      "CPU times: total: 0 ns\n",
      "Wall time: 3 ms\n"
     ]
    }
   ],
   "source": [
    "%%time\n",
    "# 1. XOR(left_state, right_state) to find the appropriate bitflips to make them matches\n",
    "valid_bitflips = list(set( tuple(l^r for l,r in zip(L,R)) for L in left_state for R in right_state ))\n",
    "valid_bitflips = set(to_binary(np.array(valid_bitflips, dtype='uint8')))\n",
    "print(len(valid_bitflips))\n",
    "count = 0\n",
    "for row in valid_bitflips:\n",
    "    print(row, bin(row))\n",
    "    count += 1\n",
    "    if count > 5:\n",
    "        break"
   ]
  },
  {
   "cell_type": "code",
   "execution_count": 13,
   "id": "44a79ea4-0b0e-42d6-90f8-927b054952a2",
   "metadata": {
    "execution": {
     "iopub.execute_input": "2022-11-11T06:14:06.153629Z",
     "iopub.status.busy": "2022-11-11T06:14:06.153629Z",
     "iopub.status.idle": "2022-11-11T06:14:06.247627Z",
     "shell.execute_reply": "2022-11-11T06:14:06.247627Z",
     "shell.execute_reply.started": "2022-11-11T06:14:06.153629Z"
    },
    "tags": []
   },
   "outputs": [
    {
     "name": "stdout",
     "output_type": "stream",
     "text": [
      "130 0b10000010\n",
      "373 0b101110101\n",
      "43 0b101011\n",
      "2626 0b101001000010\n",
      "382 0b101111110\n",
      "711 0b1011000111\n",
      "CPU times: total: 0 ns\n",
      "Wall time: 5 ms\n"
     ]
    }
   ],
   "source": [
    "%%time\n",
    "# 2. Translate Pauli's bitflip behaviour to binary representation\n",
    "bitflips_list = to_binary((pauli_list_np&1) ^ (pauli_list_np>>1))\n",
    "count = 0\n",
    "for row in bitflips_list:\n",
    "    print(row, bin(row))\n",
    "    count += 1\n",
    "    if count > 5:\n",
    "        break"
   ]
  },
  {
   "cell_type": "code",
   "execution_count": 14,
   "id": "45915b1e-960a-46a6-8c9f-a95f5d9a129a",
   "metadata": {
    "execution": {
     "iopub.execute_input": "2022-11-11T06:14:06.249628Z",
     "iopub.status.busy": "2022-11-11T06:14:06.248628Z",
     "iopub.status.idle": "2022-11-11T06:14:06.342631Z",
     "shell.execute_reply": "2022-11-11T06:14:06.342631Z",
     "shell.execute_reply.started": "2022-11-11T06:14:06.249628Z"
    },
    "tags": []
   },
   "outputs": [
    {
     "name": "stdout",
     "output_type": "stream",
     "text": [
      "(2880, ((1, 0, 1, 1, 0, 1, 0, 0, 0, 0, 0, 0), 0.0039062499999999957))\n",
      "(1132, ((0, 1, 0, 0, 0, 1, 1, 0, 1, 1, 0, 0), 0.0039062499999999957))\n",
      "(2890, ((1, 0, 1, 1, 0, 1, 0, 0, 1, 0, 1, 0), 0.0039062499999999957))\n",
      "(1126, ((0, 1, 0, 0, 0, 1, 1, 0, 0, 1, 1, 0), 0.0039062499999999957))\n",
      "(2880, ((1, 0, 1, 1, 0, 1, 0, 0, 0, 0, 0, 0), 0.0039062499999999957))\n",
      "(1132, ((0, 1, 0, 0, 0, 1, 1, 0, 1, 1, 0, 0), 0.0039062499999999957))\n",
      "(2890, ((1, 0, 1, 1, 0, 1, 0, 0, 1, 0, 1, 0), 0.0039062499999999957))\n",
      "(1126, ((0, 1, 0, 0, 0, 1, 1, 0, 0, 1, 1, 0), 0.0039062499999999957))\n",
      "CPU times: total: 0 ns\n",
      "Wall time: 0 ns\n"
     ]
    }
   ],
   "source": [
    "%%time\n",
    "# 3. So now we use binary repr as dict key\n",
    "left_state_keys = to_binary(left_state_np)  # [int, int, int, int, ...]\n",
    "right_state_keys = to_binary(right_state_np)\n",
    "left_state_bin = dict(zip(left_state_keys, left_state.items()))\n",
    "right_state_bin = dict(zip(right_state_keys, right_state.items()))\n",
    "\n",
    "count = 0\n",
    "for row in left_state_bin.items():\n",
    "    print(row)\n",
    "    count += 1\n",
    "    if count > 3:\n",
    "        break\n",
    "count = 0\n",
    "for row in right_state_bin.items():\n",
    "    print(row)\n",
    "    count += 1\n",
    "    if count > 3:\n",
    "        break"
   ]
  },
  {
   "cell_type": "code",
   "execution_count": 15,
   "id": "9a8ed8ae-e22c-4e40-89c1-25c42c504812",
   "metadata": {
    "execution": {
     "iopub.execute_input": "2022-11-11T06:14:06.344631Z",
     "iopub.status.busy": "2022-11-11T06:14:06.344631Z",
     "iopub.status.idle": "2022-11-11T06:14:06.454628Z",
     "shell.execute_reply": "2022-11-11T06:14:06.454628Z",
     "shell.execute_reply.started": "2022-11-11T06:14:06.344631Z"
    },
    "tags": []
   },
   "outputs": [
    {
     "name": "stdout",
     "output_type": "stream",
     "text": [
      "((0, 3, 0, 3, 1, 0, 3, 3, 3, 0, 1, 0), (130, -0.5801972024400194))\n",
      "((0, 0, 0, 3, 0, 3, 1, 0, 2, 0, 2, 1), (43, -1.823878357793116))\n",
      "((2, 3, 2, 2, 3, 1, 3, 1, 3, 0, 1, 0), (2898, -1.0709011323849718))\n",
      "((1, 1, 2, 1, 1, 0, 2, 1, 2, 0, 2, 1), (4027, -0.7589966122428184))\n",
      "CPU times: total: 15.6 ms\n",
      "Wall time: 19 ms\n"
     ]
    }
   ],
   "source": [
    "%%time\n",
    "\n",
    "# 4. if and only if valid_bitflips\n",
    "from collections import defaultdict as ddict\n",
    "\n",
    "valid_pauli_list = { p: (bitflips, cp) for bitflips, (p, cp) in zip(bitflips_list, pauli_list.items()) if bitflips in valid_bitflips }\n",
    "\n",
    "count = 0\n",
    "for row in valid_pauli_list.items():\n",
    "    print(row)\n",
    "    count += 1\n",
    "    if count > 3:\n",
    "        break"
   ]
  },
  {
   "cell_type": "code",
   "execution_count": 16,
   "id": "23bf34cb-c88f-412b-a993-806803ec7336",
   "metadata": {
    "execution": {
     "iopub.execute_input": "2022-11-11T06:14:06.456628Z",
     "iopub.status.busy": "2022-11-11T06:14:06.456628Z",
     "iopub.status.idle": "2022-11-11T06:14:07.121627Z",
     "shell.execute_reply": "2022-11-11T06:14:07.121627Z",
     "shell.execute_reply.started": "2022-11-11T06:14:06.456628Z"
    },
    "tags": []
   },
   "outputs": [
    {
     "name": "stdout",
     "output_type": "stream",
     "text": [
      "expect_val = (0.005508455687018302+0j)\n",
      "CPU times: total: 562 ms\n",
      "Wall time: 566 ms\n"
     ]
    }
   ],
   "source": [
    "%%time\n",
    "\n",
    "# assume that you have already done encoding IXYZ into 0123\n",
    "#pauli_list = dict() # { binary pauli as tuple : coefficient }\n",
    "#left_state = dict() # { state as tuple : coefficient }\n",
    "#right_state = dict() # { state as tuple : coefficient }\n",
    "expect_val = 0\n",
    "\n",
    "# This is how you compute the coefficient for PL\n",
    "# [ I X Y Z]\n",
    "from operator import itemgetter as itg\n",
    "from operator import mul\n",
    "from functools import reduce\n",
    "pl_coef = [None, None, [1j, -1j], [1, -1]]\n",
    "\n",
    "for P, (binbitflips, cP) in valid_pauli_list.items():\n",
    "    #print(f\"{P, bitflips, cP = }\")\n",
    "\n",
    "    for binL, (L, cL) in left_state_bin.items():\n",
    "        #print(f\"{L, cL = }\")\n",
    "        binPL = binL ^ binbitflips\n",
    "\n",
    "        # This also check whether there is a pl==r\n",
    "        # At the sametime we can obtain the coefficient\n",
    "        cR = right_state_bin.get(binPL, None)  # right_state = { binR: (R, cR) }\n",
    "        if cR is not None:\n",
    "            expect_val +=  cP * cL * cR[1] * reduce(mul, (pl_coef[p][l] for p,l in zip(P,L) if p>1), 1)\n",
    "\n",
    "print(f\"{expect_val = }\")"
   ]
  },
  {
   "cell_type": "markdown",
   "id": "a6c91936-4de3-4ef6-8d60-2b87e19167fc",
   "metadata": {
    "execution": {
     "iopub.execute_input": "2022-11-11T06:13:34.392075Z",
     "iopub.status.busy": "2022-11-11T06:13:34.391075Z",
     "iopub.status.idle": "2022-11-11T06:13:34.482074Z",
     "shell.execute_reply": "2022-11-11T06:13:34.482074Z",
     "shell.execute_reply.started": "2022-11-11T06:13:34.392075Z"
    }
   },
   "source": [
    "## Binary Numpy BatchCoef Speed"
   ]
  },
  {
   "cell_type": "code",
   "execution_count": 22,
   "id": "c5ffcf32-da77-4f30-9cbe-070765af0cef",
   "metadata": {
    "execution": {
     "iopub.execute_input": "2022-11-11T06:14:33.400299Z",
     "iopub.status.busy": "2022-11-11T06:14:33.400299Z",
     "iopub.status.idle": "2022-11-11T06:14:33.752847Z",
     "shell.execute_reply": "2022-11-11T06:14:33.752847Z",
     "shell.execute_reply.started": "2022-11-11T06:14:33.400299Z"
    },
    "tags": []
   },
   "outputs": [
    {
     "name": "stdout",
     "output_type": "stream",
     "text": [
      "expect_val = (0.005508455687018302+0j)\n",
      "CPU times: total: 250 ms\n",
      "Wall time: 253 ms\n"
     ]
    }
   ],
   "source": [
    "%%time\n",
    "\n",
    "#Ver.BatchCoef\n",
    "# assume that you have already done encoding IXYZ into 0123\n",
    "#pauli_list = dict() # { binary pauli as tuple : coefficient }\n",
    "#left_state = dict() # { state as tuple : coefficient }\n",
    "#right_state = dict() # { state as tuple : coefficient }\n",
    "expect_val = 0\n",
    "\n",
    "# This is how you compute the coefficient for PL\n",
    "# [ I X Y Z]\n",
    "from operator import itemgetter as itg\n",
    "from operator import mul\n",
    "from functools import reduce, lru_cache\n",
    "pl_coef = [None, None, [1j, -1j], [1, -1]]\n",
    "\n",
    "@lru_cache(maxsize=None)\n",
    "def _PaulizalCoef(_P, _L):\n",
    "    return reduce(mul, (pl_coef[p][l] for p,l in zip(_P,_L) if p>1), 1)\n",
    "\n",
    "def PaulizalCoef(P, L, pt=4):\n",
    "    return reduce(mul, (_PaulizalCoef(P[k:k+pt], L[k:k+pt]) for k in range(0, len(P), pt)) , 1)\n",
    "\n",
    "for P, (binbitflips, cP) in valid_pauli_list.items():\n",
    "    #print(f\"{P, bitflips, cP = }\")\n",
    "\n",
    "    for binL, (L, cL) in left_state_bin.items():\n",
    "        #print(f\"{L, cL = }\")\n",
    "        binPL = binL ^ binbitflips\n",
    "\n",
    "        # This also check whether there is a pl==r\n",
    "        # At the sametime we can obtain the coefficient\n",
    "        cR = right_state_bin.get(binPL, None)  # right_state = { binR: (R, cR) }\n",
    "        if cR is not None:\n",
    "            expect_val +=  cP * cL * cR[1] * PaulizalCoef(P,L)\n",
    "\n",
    "print(f\"{expect_val = }\")"
   ]
  },
  {
   "cell_type": "markdown",
   "id": "d2a809e3-e145-441d-8bc8-3106f8158ddf",
   "metadata": {},
   "source": [
    "## Batch coef (?)"
   ]
  },
  {
   "cell_type": "code",
   "execution_count": 23,
   "id": "0a98a136-e0d7-4fd1-adfa-a62e8bcbae4f",
   "metadata": {
    "execution": {
     "iopub.execute_input": "2022-11-11T06:14:50.497035Z",
     "iopub.status.busy": "2022-11-11T06:14:50.497035Z",
     "iopub.status.idle": "2022-11-11T06:14:50.929974Z",
     "shell.execute_reply": "2022-11-11T06:14:50.929974Z",
     "shell.execute_reply.started": "2022-11-11T06:14:50.497035Z"
    },
    "tags": []
   },
   "outputs": [
    {
     "name": "stdout",
     "output_type": "stream",
     "text": [
      "expect_val = (0.005508455687018302+0j)\n",
      "         572079 function calls (568204 primitive calls) in 0.342 seconds\n",
      "\n",
      "   Ordered by: standard name\n",
      "\n",
      "   ncalls  tottime  percall  cumtime  percall filename:lineno(function)\n",
      "        1    0.186    0.186    0.342    0.342 <string>:1(<module>)\n",
      "     3875    0.003    0.000    0.028    0.000 <string>:16(_PaulizalCoef)\n",
      "    11619    0.022    0.000    0.022    0.000 <string>:18(<genexpr>)\n",
      "    24978    0.021    0.000    0.120    0.000 <string>:20(PaulizalCoef)\n",
      "    99912    0.053    0.000    0.081    0.000 <string>:21(<genexpr>)\n",
      "        1    0.000    0.000    0.000    0.000 functools.py:35(update_wrapper)\n",
      "        1    0.000    0.000    0.000    0.000 functools.py:479(lru_cache)\n",
      "        1    0.000    0.000    0.000    0.000 functools.py:518(decorating_function)\n",
      "        1    0.000    0.000    0.000    0.000 iostream.py:202(schedule)\n",
      "        2    0.000    0.000    0.000    0.000 iostream.py:429(_is_master_process)\n",
      "        2    0.000    0.000    0.000    0.000 iostream.py:448(_schedule_flush)\n",
      "        2    0.000    0.000    0.000    0.000 iostream.py:518(write)\n",
      "        1    0.000    0.000    0.000    0.000 iostream.py:90(_event_pipe)\n",
      "        1    0.000    0.000    0.000    0.000 socket.py:543(send)\n",
      "        1    0.000    0.000    0.000    0.000 threading.py:1095(_wait_for_tstate_lock)\n",
      "        1    0.000    0.000    0.000    0.000 threading.py:1162(is_alive)\n",
      "        1    0.000    0.000    0.000    0.000 threading.py:546(is_set)\n",
      "28853/24978    0.020    0.000    0.098    0.000 {built-in method _functools.reduce}\n",
      "        1    0.000    0.000    0.000    0.000 {built-in method builtins.callable}\n",
      "        1    0.000    0.000    0.342    0.342 {built-in method builtins.exec}\n",
      "        7    0.000    0.000    0.000    0.000 {built-in method builtins.getattr}\n",
      "        3    0.000    0.000    0.000    0.000 {built-in method builtins.isinstance}\n",
      "    24980    0.001    0.000    0.001    0.000 {built-in method builtins.len}\n",
      "        1    0.000    0.000    0.000    0.000 {built-in method builtins.print}\n",
      "        5    0.000    0.000    0.000    0.000 {built-in method builtins.setattr}\n",
      "        2    0.000    0.000    0.000    0.000 {built-in method nt.getpid}\n",
      "        2    0.000    0.000    0.000    0.000 {method '__exit__' of '_thread.RLock' objects}\n",
      "        1    0.000    0.000    0.000    0.000 {method 'acquire' of '_thread.lock' objects}\n",
      "        1    0.000    0.000    0.000    0.000 {method 'append' of 'collections.deque' objects}\n",
      "        1    0.000    0.000    0.000    0.000 {method 'disable' of '_lsprof.Profiler' objects}\n",
      "   366368    0.034    0.000    0.034    0.000 {method 'get' of 'dict' objects}\n",
      "    11450    0.001    0.000    0.001    0.000 {method 'items' of 'dict' objects}\n",
      "        1    0.000    0.000    0.000    0.000 {method 'update' of 'dict' objects}\n",
      "        2    0.000    0.000    0.000    0.000 {method 'write' of '_io.StringIO' objects}\n",
      "\n",
      "\n",
      "CPU times: total: 344 ms\n",
      "Wall time: 334 ms\n"
     ]
    }
   ],
   "source": [
    "%%time\n",
    "from cProfile import run\n",
    "\n",
    "run(\"\"\"\n",
    "#Ver.BatchCoef\n",
    "# assume that you have already done encoding IXYZ into 0123\n",
    "#pauli_list = dict() # { binary pauli as tuple : coefficient }\n",
    "#left_state = dict() # { state as tuple : coefficient }\n",
    "#right_state = dict() # { state as tuple : coefficient }\n",
    "expect_val = 0\n",
    "\n",
    "# This is how you compute the coefficient for PL\n",
    "# [ I X Y Z]\n",
    "from operator import itemgetter as itg\n",
    "from operator import mul\n",
    "from functools import reduce\n",
    "pl_coef = [None, None, [1j, -1j], [1, -1]]\n",
    "\n",
    "@lru_cache(maxsize=None)\n",
    "def _PaulizalCoef(_P, _L):\n",
    "    return reduce(mul, (pl_coef[p][l] for p,l in zip(_P,_L) if p>1), 1)\n",
    "\n",
    "def PaulizalCoef(P, L, pt=4):\n",
    "    return reduce(mul, (_PaulizalCoef(P[k:k+pt], L[k:k+pt]) for k in range(0, len(P), pt)) , 1)\n",
    "\n",
    "for P, (binbitflips, cP) in valid_pauli_list.items():\n",
    "    #print(f\"{P, bitflips, cP = }\")\n",
    "\n",
    "    for binL, (L, cL) in left_state_bin.items():\n",
    "        #print(f\"{L, cL = }\")\n",
    "        binPL = binL ^ binbitflips\n",
    "\n",
    "        # This also check whether there is a pl==r\n",
    "        # At the sametime we can obtain the coefficient\n",
    "        cR = right_state_bin.get(binPL, None)  # right_state = { binR: (R, cR) }\n",
    "        if cR is not None:\n",
    "            expect_val +=  cP * cL * cR[1] * PaulizalCoef(P,L)\n",
    "\n",
    "print(f\"{expect_val = }\")\n",
    "\"\"\")"
   ]
  },
  {
   "cell_type": "code",
   "execution_count": 20,
   "id": "9fca8b89-7404-4d31-84db-0ce8b265efc9",
   "metadata": {
    "execution": {
     "iopub.execute_input": "2022-11-11T06:14:07.713604Z",
     "iopub.status.busy": "2022-11-11T06:14:07.712602Z",
     "iopub.status.idle": "2022-11-11T06:14:07.810259Z",
     "shell.execute_reply": "2022-11-11T06:14:07.810259Z",
     "shell.execute_reply.started": "2022-11-11T06:14:07.713604Z"
    },
    "tags": []
   },
   "outputs": [
    {
     "name": "stdout",
     "output_type": "stream",
     "text": [
      "(2, 0, 2, 1) (0, 1, 0, 0)\n",
      "(3, 3, 2, 3) (1, 0, 1, 0)\n",
      "(3, 1, 0, 2) (0, 0, 1, 1)\n",
      "(3, 2) (0, 1)\n"
     ]
    }
   ],
   "source": [
    "P = (2, 0, 2, 1, 3, 3, 2, 3, 3, 1, 0, 2, 3, 2)\n",
    "L = (0, 1, 0, 0, 1, 0, 1, 0, 0, 0, 1, 1, 0, 1)\n",
    "\n",
    "pt = 4\n",
    "for k in range(0, len(P), pt):\n",
    "    end = k+pt\n",
    "    p = P[k:end]\n",
    "    l = L[k:end]\n",
    "    print(p, l)\n",
    "\n",
    "@lru_cache(maxsize=512)\n",
    "def _PaulizalCoef(_P, _L):\n",
    "    return reduce(mul, (pl_coef[p][l] for p,l in zip(_P,_L) if p>1), 1)\n",
    "\n",
    "def PaulizalCoef(P, L, pt=2):\n",
    "    return reduct(mul, (_PaulizalCoef(P[k:k+pt], L[k:k+pt]) for k in range(0, len(P), pt)) , 1)\n"
   ]
  }
 ],
 "metadata": {
  "kernelspec": {
   "display_name": "mkl",
   "language": "python",
   "name": "mkl"
  },
  "language_info": {
   "codemirror_mode": {
    "name": "ipython",
    "version": 3
   },
   "file_extension": ".py",
   "mimetype": "text/x-python",
   "name": "python",
   "nbconvert_exporter": "python",
   "pygments_lexer": "ipython3",
   "version": "3.10.4"
  }
 },
 "nbformat": 4,
 "nbformat_minor": 5
}
