{
 "cells": [
  {
   "cell_type": "markdown",
   "id": "64da6cf4-0946-4eb6-8386-0ab77556be96",
   "metadata": {},
   "source": [
    "# SymPauli_expect\n",
    "\n",
    "Expectation Value of a Pauli Sum is as the Trace of PauliMatrix * DensityMatrix\n",
    "\n",
    "$ PauliSum = \\sum_{i} \\ p_i \\ P_i $\n",
    "\n",
    "$ DensityMatrix = \\sum_{j k} \\ l_j r_k \\ | L_j > < R_k | $\n",
    "\n",
    "Thus\n",
    "\n",
    "$ ExpectationValue = Tr(\\ \\sum_{i j k} \\ p_j l_j r_k \\ P_i | L_j > < R_k | \\ ) $\n",
    "\n",
    "While $ P_i $ is a PauliOperator (matrix) hence $ P_i | L_j > $ is becoming a new vector, it then perform the outer product with $ < R_k | $\n",
    "\n",
    "However, for finding the Trace, all you need to do is to sum the diagonal components of the matrix.\n",
    "\n",
    "Therefore everything outside of diagonal path can be ignored.\n",
    "\n",
    "Which leads to:\n",
    "\n",
    "$ ExpectationValue = \\sum_{i j k} \\ p_j l_j r_k \\ P_i | L_j > < R_k | \\ [\\ iff \\ P_i | L_j > == R_k \\ ] $"
   ]
  },
  {
   "cell_type": "code",
   "execution_count": 1,
   "id": "e741037c-24aa-4578-8106-7025325bcd86",
   "metadata": {
    "execution": {
     "iopub.execute_input": "2022-11-10T13:23:51.633638Z",
     "iopub.status.busy": "2022-11-10T13:23:51.632637Z",
     "iopub.status.idle": "2022-11-10T13:23:51.681634Z",
     "shell.execute_reply": "2022-11-10T13:23:51.681634Z",
     "shell.execute_reply.started": "2022-11-10T13:23:51.633638Z"
    }
   },
   "outputs": [],
   "source": [
    "from IPython.core.interactiveshell import InteractiveShell\n",
    "InteractiveShell.ast_node_interactivity = \"all\""
   ]
  },
  {
   "cell_type": "code",
   "execution_count": 2,
   "id": "f7d9b000-15e5-4c96-af51-326c3f90c3b3",
   "metadata": {
    "execution": {
     "iopub.execute_input": "2022-11-10T13:23:51.684636Z",
     "iopub.status.busy": "2022-11-10T13:23:51.683636Z",
     "iopub.status.idle": "2022-11-10T13:23:51.729638Z",
     "shell.execute_reply": "2022-11-10T13:23:51.729638Z",
     "shell.execute_reply.started": "2022-11-10T13:23:51.684636Z"
    },
    "tags": []
   },
   "outputs": [
    {
     "data": {
      "text/plain": [
       "[0, 1, 1, 0]"
      ]
     },
     "execution_count": 2,
     "metadata": {},
     "output_type": "execute_result"
    },
    {
     "data": {
      "text/plain": [
       "[0, 0, 1, 1]"
      ]
     },
     "execution_count": 2,
     "metadata": {},
     "output_type": "execute_result"
    },
    {
     "name": "stdout",
     "output_type": "stream",
     "text": [
      "diagonal > False\n"
     ]
    }
   ],
   "source": [
    "P = [0,1,2,3]\n",
    "L = [0,1,0,1]\n",
    "R = [0,1,1,0]\n",
    "\n",
    "# First find out bitflip Pauli\n",
    "bitflips = [ (p&1)^(p>>1) for p in P]\n",
    "bitflips\n",
    "\n",
    "# Then do P_i | L_j > to make new vector\n",
    "PL = [p^l for p,l in zip(bitflips, L)]\n",
    "PL\n",
    "\n",
    "if any( pl^r for pl,r in zip(PL,R) ):\n",
    "    print(f\"diagonal > False\")\n",
    "else:\n",
    "    print(f\"diagonal > True\")\n"
   ]
  },
  {
   "cell_type": "code",
   "execution_count": 3,
   "id": "2a8e88c0-b710-44e7-8f79-15a346752db6",
   "metadata": {
    "execution": {
     "iopub.execute_input": "2022-11-10T13:23:51.731640Z",
     "iopub.status.busy": "2022-11-10T13:23:51.731640Z",
     "iopub.status.idle": "2022-11-10T13:23:52.148149Z",
     "shell.execute_reply": "2022-11-10T13:23:52.148149Z",
     "shell.execute_reply.started": "2022-11-10T13:23:51.731640Z"
    },
    "tags": []
   },
   "outputs": [
    {
     "data": {
      "text/plain": [
       "array([0, 1, 1, 0], dtype=uint8)"
      ]
     },
     "execution_count": 3,
     "metadata": {},
     "output_type": "execute_result"
    },
    {
     "data": {
      "text/plain": [
       "array([0, 0, 1, 1], dtype=uint8)"
      ]
     },
     "execution_count": 3,
     "metadata": {},
     "output_type": "execute_result"
    },
    {
     "data": {
      "text/plain": [
       "array([8, 4, 2, 1], dtype=int32)"
      ]
     },
     "execution_count": 3,
     "metadata": {},
     "output_type": "execute_result"
    },
    {
     "data": {
      "text/plain": [
       "array([2, 1], dtype=int32)"
      ]
     },
     "execution_count": 3,
     "metadata": {},
     "output_type": "execute_result"
    },
    {
     "data": {
      "text/plain": [
       "3"
      ]
     },
     "execution_count": 3,
     "metadata": {},
     "output_type": "execute_result"
    },
    {
     "data": {
      "text/plain": [
       "array([0, 0, 0, 1, 0, 0, 0, 0, 0, 0, 0, 0, 0, 0, 0, 0], dtype=uint8)"
      ]
     },
     "execution_count": 3,
     "metadata": {},
     "output_type": "execute_result"
    },
    {
     "data": {
      "text/plain": [
       "array([4, 2], dtype=int32)"
      ]
     },
     "execution_count": 3,
     "metadata": {},
     "output_type": "execute_result"
    },
    {
     "data": {
      "text/plain": [
       "6"
      ]
     },
     "execution_count": 3,
     "metadata": {},
     "output_type": "execute_result"
    },
    {
     "data": {
      "text/plain": [
       "array([0, 0, 0, 0, 0, 0, 1, 0, 0, 0, 0, 0, 0, 0, 0, 0], dtype=uint8)"
      ]
     },
     "execution_count": 3,
     "metadata": {},
     "output_type": "execute_result"
    },
    {
     "data": {
      "text/plain": [
       "array([[0, 0, 0, 0, 0, 0, 0, 0, 0, 0, 0, 0, 0, 0, 0, 0],\n",
       "       [0, 0, 0, 0, 0, 0, 0, 0, 0, 0, 0, 0, 0, 0, 0, 0],\n",
       "       [0, 0, 0, 0, 0, 0, 0, 0, 0, 0, 0, 0, 0, 0, 0, 0],\n",
       "       [0, 0, 0, 0, 0, 0, 1, 0, 0, 0, 0, 0, 0, 0, 0, 0],\n",
       "       [0, 0, 0, 0, 0, 0, 0, 0, 0, 0, 0, 0, 0, 0, 0, 0],\n",
       "       [0, 0, 0, 0, 0, 0, 0, 0, 0, 0, 0, 0, 0, 0, 0, 0],\n",
       "       [0, 0, 0, 0, 0, 0, 0, 0, 0, 0, 0, 0, 0, 0, 0, 0],\n",
       "       [0, 0, 0, 0, 0, 0, 0, 0, 0, 0, 0, 0, 0, 0, 0, 0],\n",
       "       [0, 0, 0, 0, 0, 0, 0, 0, 0, 0, 0, 0, 0, 0, 0, 0],\n",
       "       [0, 0, 0, 0, 0, 0, 0, 0, 0, 0, 0, 0, 0, 0, 0, 0],\n",
       "       [0, 0, 0, 0, 0, 0, 0, 0, 0, 0, 0, 0, 0, 0, 0, 0],\n",
       "       [0, 0, 0, 0, 0, 0, 0, 0, 0, 0, 0, 0, 0, 0, 0, 0],\n",
       "       [0, 0, 0, 0, 0, 0, 0, 0, 0, 0, 0, 0, 0, 0, 0, 0],\n",
       "       [0, 0, 0, 0, 0, 0, 0, 0, 0, 0, 0, 0, 0, 0, 0, 0],\n",
       "       [0, 0, 0, 0, 0, 0, 0, 0, 0, 0, 0, 0, 0, 0, 0, 0],\n",
       "       [0, 0, 0, 0, 0, 0, 0, 0, 0, 0, 0, 0, 0, 0, 0, 0]], dtype=uint8)"
      ]
     },
     "execution_count": 3,
     "metadata": {},
     "output_type": "execute_result"
    },
    {
     "data": {
      "text/plain": [
       "0"
      ]
     },
     "execution_count": 3,
     "metadata": {},
     "output_type": "execute_result"
    }
   ],
   "source": [
    "# Now we verify this by actually computing the matrix representation\n",
    "import numpy as np\n",
    "import numexpr as ne\n",
    "\n",
    "P = np.array([0,1,2,3], dtype='uint8')\n",
    "L = np.array([0,1,0,1], dtype='uint8')\n",
    "R = np.array([0,1,1,0], dtype='uint8')\n",
    "\n",
    "# First find out bitflip Pauli\n",
    "bitflips = (P&1) ^ (P>>1)\n",
    "bitflips\n",
    "\n",
    "PL = bitflips ^ L\n",
    "PL\n",
    "\n",
    "# Since this a 4qubit system, lets expand the vector\n",
    "ref = (2**np.arange(4))[::-1]\n",
    "ref\n",
    "\n",
    "PLvec = np.zeros(2**4, dtype='uint8')\n",
    "PLval = ref[PL.astype(bool)]\n",
    "PLval\n",
    "PLval = PLval.sum()\n",
    "PLval\n",
    "PLvec[PLval] = 1\n",
    "PLvec\n",
    "\n",
    "Rvec = np.zeros(2**4, dtype='uint8')\n",
    "Rval = ref[R.astype(bool)]\n",
    "Rval\n",
    "Rval = Rval.sum()\n",
    "Rval\n",
    "Rvec[Rval] = 1\n",
    "Rvec\n",
    "\n",
    "PLRmatrix = np.outer(PLvec, Rvec)\n",
    "PLRmatrix\n",
    "\n",
    "np.trace(PLRmatrix)"
   ]
  },
  {
   "cell_type": "markdown",
   "id": "015af7d5-3321-4451-82e6-42558a546981",
   "metadata": {},
   "source": [
    "# This proves the theory. So all you need to do is stack 3 for loops together.\n",
    "\n",
    "Actually you can do 2 for loops.\n",
    "\n",
    "Since the last step is to find if PL == R, we can do a hashtable check to accomplish this goal.\n",
    "\n",
    "If there do no exist exact same state as PL in R set, automatically means that for every r in R we obtain zero."
   ]
  },
  {
   "cell_type": "code",
   "execution_count": 4,
   "id": "d21a8be2-2fc6-458d-b0e5-1a7f05e680a9",
   "metadata": {
    "execution": {
     "iopub.execute_input": "2022-11-10T13:43:25.273976Z",
     "iopub.status.busy": "2022-11-10T13:43:25.273976Z",
     "iopub.status.idle": "2022-11-10T13:43:25.309973Z",
     "shell.execute_reply": "2022-11-10T13:43:25.309973Z",
     "shell.execute_reply.started": "2022-11-10T13:43:25.273976Z"
    },
    "tags": []
   },
   "outputs": [],
   "source": [
    "# assume that you have already done encoding IXYZ into 0123\n",
    "pauli_list = dict() # { binary pauli as tuple : coefficient }\n",
    "left_state = dict() # { state as tuple : coefficient }\n",
    "right_state = dict() # { state as tuple : coefficient }\n",
    "expect_val = 0\n",
    "\n",
    "# This is how you compute the coefficient for PL\n",
    "# [ I X Y Z]\n",
    "from operator import itemgetter as itg\n",
    "from operator import mul\n",
    "from functools import reduce\n",
    "pl_coef = [None, None, [1j, -1j], [1, -1]]\n",
    "\n",
    "for p, cp in pauli_list.items():\n",
    "    bitflips = [ (p&1)^(p>>1) for p in P ]\n",
    "\n",
    "    for l, cl in left_state.items():\n",
    "        pl = [p^l for p,l in zip(bitflips, L)]\n",
    "\n",
    "        # This also check whether there is a pl==r\n",
    "        # At the sametime we can obtain the coefficient\n",
    "        cr = right_state.get(pl, None)\n",
    "        if cr is not None:\n",
    "            expect_val +=  cp * cl * cr * reduce(mul, (pl_coef[p][l] for p,l in zip(p,l) if p>1))"
   ]
  },
  {
   "cell_type": "code",
   "execution_count": null,
   "id": "56722062-07ac-423a-9dcc-7a1ea923c8ba",
   "metadata": {},
   "outputs": [],
   "source": []
  }
 ],
 "metadata": {
  "kernelspec": {
   "display_name": "mkl",
   "language": "python",
   "name": "mkl"
  },
  "language_info": {
   "codemirror_mode": {
    "name": "ipython",
    "version": 3
   },
   "file_extension": ".py",
   "mimetype": "text/x-python",
   "name": "python",
   "nbconvert_exporter": "python",
   "pygments_lexer": "ipython3",
   "version": "3.10.4"
  }
 },
 "nbformat": 4,
 "nbformat_minor": 5
}
