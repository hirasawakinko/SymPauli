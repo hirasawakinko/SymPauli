{
 "cells": [
  {
   "cell_type": "markdown",
   "id": "64da6cf4-0946-4eb6-8386-0ab77556be96",
   "metadata": {},
   "source": [
    "# SymPauli_expect\n",
    "\n",
    "Expectation Value of a Pauli Sum is as the Trace of PauliMatrix * DensityMatrix\n",
    "\n",
    "$ PauliSum = \\sum_{i} \\ p_i \\ P_i $\n",
    "\n",
    "$ DensityMatrix = \\sum_{j k} \\ l_j r_k \\ | L_j > < R_k | $\n",
    "\n",
    "Thus\n",
    "\n",
    "$ ExpectationValue = Tr(\\ \\sum_{i j k} \\ p_j l_j r_k \\ P_i | L_j > < R_k | \\ ) $\n",
    "\n",
    "While $ P_i $ is a PauliOperator (matrix) hence $ P_i | L_j > $ is becoming a new vector, it then perform the outer product with $ < R_k | $\n",
    "\n",
    "However, for finding the Trace, all you need to do is to sum the diagonal components of the matrix.\n",
    "\n",
    "Therefore everything outside of diagonal path can be ignored.\n",
    "\n",
    "Which leads to:\n",
    "\n",
    "$ ExpectationValue = \\sum_{i j k} \\ p_j l_j r_k \\ P_i | L_j > < R_k | \\ [\\ iff \\ P_i | L_j > == R_k \\ ] $"
   ]
  },
  {
   "cell_type": "code",
   "execution_count": 170,
   "id": "e741037c-24aa-4578-8106-7025325bcd86",
   "metadata": {
    "execution": {
     "iopub.execute_input": "2022-11-12T04:24:22.170127Z",
     "iopub.status.busy": "2022-11-12T04:24:22.170127Z",
     "iopub.status.idle": "2022-11-12T04:24:22.225128Z",
     "shell.execute_reply": "2022-11-12T04:24:22.225128Z",
     "shell.execute_reply.started": "2022-11-12T04:24:22.170127Z"
    }
   },
   "outputs": [],
   "source": [
    "from IPython.core.interactiveshell import InteractiveShell\n",
    "InteractiveShell.ast_node_interactivity = \"all\""
   ]
  },
  {
   "cell_type": "code",
   "execution_count": 171,
   "id": "f7d9b000-15e5-4c96-af51-326c3f90c3b3",
   "metadata": {
    "execution": {
     "iopub.execute_input": "2022-11-12T04:24:22.400127Z",
     "iopub.status.busy": "2022-11-12T04:24:22.400127Z",
     "iopub.status.idle": "2022-11-12T04:24:22.465127Z",
     "shell.execute_reply": "2022-11-12T04:24:22.465127Z",
     "shell.execute_reply.started": "2022-11-12T04:24:22.400127Z"
    },
    "tags": []
   },
   "outputs": [
    {
     "data": {
      "text/plain": [
       "[0, 1, 1, 0]"
      ]
     },
     "execution_count": 171,
     "metadata": {},
     "output_type": "execute_result"
    },
    {
     "data": {
      "text/plain": [
       "[0, 0, 1, 1]"
      ]
     },
     "execution_count": 171,
     "metadata": {},
     "output_type": "execute_result"
    },
    {
     "name": "stdout",
     "output_type": "stream",
     "text": [
      "diagonal > False\n"
     ]
    }
   ],
   "source": [
    "P = [0,1,2,3]\n",
    "L = [0,1,0,1]\n",
    "R = [0,1,1,0]\n",
    "\n",
    "# First find out bitflip Pauli\n",
    "bitflips = [ (p&1)^(p>>1) for p in P]\n",
    "bitflips\n",
    "\n",
    "# Then do P_i | L_j > to make new vector\n",
    "PL = [p^l for p,l in zip(bitflips, L)]\n",
    "PL\n",
    "\n",
    "if any( pl^r for pl,r in zip(PL,R) ):\n",
    "    print(f\"diagonal > False\")\n",
    "else:\n",
    "    print(f\"diagonal > True\")\n"
   ]
  },
  {
   "cell_type": "code",
   "execution_count": 172,
   "id": "2a8e88c0-b710-44e7-8f79-15a346752db6",
   "metadata": {
    "execution": {
     "iopub.execute_input": "2022-11-12T04:24:22.763710Z",
     "iopub.status.busy": "2022-11-12T04:24:22.763710Z",
     "iopub.status.idle": "2022-11-12T04:24:22.890709Z",
     "shell.execute_reply": "2022-11-12T04:24:22.890709Z",
     "shell.execute_reply.started": "2022-11-12T04:24:22.763710Z"
    },
    "tags": []
   },
   "outputs": [
    {
     "data": {
      "text/plain": [
       "array([0, 1, 1, 0], dtype=uint8)"
      ]
     },
     "execution_count": 172,
     "metadata": {},
     "output_type": "execute_result"
    },
    {
     "data": {
      "text/plain": [
       "array([0, 0, 1, 1], dtype=uint8)"
      ]
     },
     "execution_count": 172,
     "metadata": {},
     "output_type": "execute_result"
    },
    {
     "data": {
      "text/plain": [
       "array([8, 4, 2, 1], dtype=int32)"
      ]
     },
     "execution_count": 172,
     "metadata": {},
     "output_type": "execute_result"
    },
    {
     "data": {
      "text/plain": [
       "array([2, 1], dtype=int32)"
      ]
     },
     "execution_count": 172,
     "metadata": {},
     "output_type": "execute_result"
    },
    {
     "data": {
      "text/plain": [
       "3"
      ]
     },
     "execution_count": 172,
     "metadata": {},
     "output_type": "execute_result"
    },
    {
     "data": {
      "text/plain": [
       "array([0, 0, 0, 1, 0, 0, 0, 0, 0, 0, 0, 0, 0, 0, 0, 0], dtype=uint8)"
      ]
     },
     "execution_count": 172,
     "metadata": {},
     "output_type": "execute_result"
    },
    {
     "data": {
      "text/plain": [
       "array([4, 2], dtype=int32)"
      ]
     },
     "execution_count": 172,
     "metadata": {},
     "output_type": "execute_result"
    },
    {
     "data": {
      "text/plain": [
       "6"
      ]
     },
     "execution_count": 172,
     "metadata": {},
     "output_type": "execute_result"
    },
    {
     "data": {
      "text/plain": [
       "array([0, 0, 0, 0, 0, 0, 1, 0, 0, 0, 0, 0, 0, 0, 0, 0], dtype=uint8)"
      ]
     },
     "execution_count": 172,
     "metadata": {},
     "output_type": "execute_result"
    },
    {
     "data": {
      "text/plain": [
       "array([[0, 0, 0, 0, 0, 0, 0, 0, 0, 0, 0, 0, 0, 0, 0, 0],\n",
       "       [0, 0, 0, 0, 0, 0, 0, 0, 0, 0, 0, 0, 0, 0, 0, 0],\n",
       "       [0, 0, 0, 0, 0, 0, 0, 0, 0, 0, 0, 0, 0, 0, 0, 0],\n",
       "       [0, 0, 0, 0, 0, 0, 1, 0, 0, 0, 0, 0, 0, 0, 0, 0],\n",
       "       [0, 0, 0, 0, 0, 0, 0, 0, 0, 0, 0, 0, 0, 0, 0, 0],\n",
       "       [0, 0, 0, 0, 0, 0, 0, 0, 0, 0, 0, 0, 0, 0, 0, 0],\n",
       "       [0, 0, 0, 0, 0, 0, 0, 0, 0, 0, 0, 0, 0, 0, 0, 0],\n",
       "       [0, 0, 0, 0, 0, 0, 0, 0, 0, 0, 0, 0, 0, 0, 0, 0],\n",
       "       [0, 0, 0, 0, 0, 0, 0, 0, 0, 0, 0, 0, 0, 0, 0, 0],\n",
       "       [0, 0, 0, 0, 0, 0, 0, 0, 0, 0, 0, 0, 0, 0, 0, 0],\n",
       "       [0, 0, 0, 0, 0, 0, 0, 0, 0, 0, 0, 0, 0, 0, 0, 0],\n",
       "       [0, 0, 0, 0, 0, 0, 0, 0, 0, 0, 0, 0, 0, 0, 0, 0],\n",
       "       [0, 0, 0, 0, 0, 0, 0, 0, 0, 0, 0, 0, 0, 0, 0, 0],\n",
       "       [0, 0, 0, 0, 0, 0, 0, 0, 0, 0, 0, 0, 0, 0, 0, 0],\n",
       "       [0, 0, 0, 0, 0, 0, 0, 0, 0, 0, 0, 0, 0, 0, 0, 0],\n",
       "       [0, 0, 0, 0, 0, 0, 0, 0, 0, 0, 0, 0, 0, 0, 0, 0]], dtype=uint8)"
      ]
     },
     "execution_count": 172,
     "metadata": {},
     "output_type": "execute_result"
    },
    {
     "data": {
      "text/plain": [
       "0"
      ]
     },
     "execution_count": 172,
     "metadata": {},
     "output_type": "execute_result"
    }
   ],
   "source": [
    "# Now we verify this by actually computing the matrix representation\n",
    "import numpy as np\n",
    "import numexpr as ne\n",
    "\n",
    "P = np.array([0,1,2,3], dtype='uint8')\n",
    "L = np.array([0,1,0,1], dtype='uint8')\n",
    "R = np.array([0,1,1,0], dtype='uint8')\n",
    "\n",
    "# First find out bitflip Pauli\n",
    "bitflips = (P&1) ^ (P>>1)\n",
    "bitflips\n",
    "\n",
    "PL = bitflips ^ L\n",
    "PL\n",
    "\n",
    "# Since this a 4qubit system, lets expand the vector\n",
    "ref = (2**np.arange(4))[::-1]\n",
    "ref\n",
    "\n",
    "PLvec = np.zeros(2**4, dtype='uint8')\n",
    "PLval = ref[PL.astype(bool)]\n",
    "PLval\n",
    "PLval = PLval.sum()\n",
    "PLval\n",
    "PLvec[PLval] = 1\n",
    "PLvec\n",
    "\n",
    "Rvec = np.zeros(2**4, dtype='uint8')\n",
    "Rval = ref[R.astype(bool)]\n",
    "Rval\n",
    "Rval = Rval.sum()\n",
    "Rval\n",
    "Rvec[Rval] = 1\n",
    "Rvec\n",
    "\n",
    "PLRmatrix = np.outer(PLvec, Rvec)\n",
    "PLRmatrix\n",
    "\n",
    "np.trace(PLRmatrix)"
   ]
  },
  {
   "cell_type": "markdown",
   "id": "015af7d5-3321-4451-82e6-42558a546981",
   "metadata": {},
   "source": [
    "# This proves the theory. So all you need to do is stack 3 for loops together.\n",
    "\n",
    "Actually you can do 2 for loops.\n",
    "\n",
    "Since the last step is to find if PL == R, we can do a hashtable check to accomplish this goal.\n",
    "\n",
    "If there do no exist exact same state as PL in R set, automatically means that for every r in R we obtain zero."
   ]
  },
  {
   "cell_type": "code",
   "execution_count": 173,
   "id": "d21a8be2-2fc6-458d-b0e5-1a7f05e680a9",
   "metadata": {
    "execution": {
     "iopub.execute_input": "2022-11-12T04:24:25.612837Z",
     "iopub.status.busy": "2022-11-12T04:24:25.612837Z",
     "iopub.status.idle": "2022-11-12T04:24:25.684835Z",
     "shell.execute_reply": "2022-11-12T04:24:25.684835Z",
     "shell.execute_reply.started": "2022-11-12T04:24:25.612837Z"
    },
    "tags": []
   },
   "outputs": [
    {
     "name": "stdout",
     "output_type": "stream",
     "text": [
      "expect_val = 0\n"
     ]
    }
   ],
   "source": [
    "# assume that you have already done encoding IXYZ into 0123\n",
    "pauli_list = dict() # { binary pauli as tuple : coefficient }\n",
    "left_state = dict() # { state as tuple : coefficient }\n",
    "right_state = dict() # { state as tuple : coefficient }\n",
    "expect_val = 0\n",
    "\n",
    "# This is how you compute the coefficient for PL\n",
    "# [ I X Y Z]\n",
    "from operator import itemgetter as itg\n",
    "from operator import mul\n",
    "from functools import reduce\n",
    "pl_coef = [None, None, [1j, -1j], [1, -1]]\n",
    "\n",
    "for P, cP in pauli_list:\n",
    "    #print(f\"{P, cP = }\")\n",
    "    bitflips = [ (p&1)^(p>>1) for p in P ]\n",
    "\n",
    "    for L, cL in left_state:\n",
    "        #print(f\"{L, cL = }\")\n",
    "        PL = tuple(p^l for p,l in zip(bitflips, L))\n",
    "\n",
    "        # This also check whether there is a pl==r\n",
    "        # At the sametime we can obtain the coefficient\n",
    "        cR = right_state.get(PL, None)\n",
    "        if cR is not None:\n",
    "            expect_val +=  cP * cL * cR * reduce(mul, (pl_coef[p][l] for p,l in zip(P,L) if p>1), 1)\n",
    "        #else:\n",
    "        #    print(PL, 'unfound')\n",
    "\n",
    "print(f\"{expect_val = }\")"
   ]
  },
  {
   "cell_type": "markdown",
   "id": "ebc73ded-0e31-4752-874d-a25789c6dcf5",
   "metadata": {},
   "source": [
    "# Benchmarking"
   ]
  },
  {
   "cell_type": "code",
   "execution_count": 174,
   "id": "ba05deba-275a-4257-90dc-0acaff24136e",
   "metadata": {
    "execution": {
     "iopub.execute_input": "2022-11-12T04:24:27.559873Z",
     "iopub.status.busy": "2022-11-12T04:24:27.558871Z",
     "iopub.status.idle": "2022-11-12T04:24:27.916516Z",
     "shell.execute_reply": "2022-11-12T04:24:27.916516Z",
     "shell.execute_reply.started": "2022-11-12T04:24:27.559873Z"
    },
    "tags": []
   },
   "outputs": [
    {
     "name": "stdout",
     "output_type": "stream",
     "text": [
      "CPU times: total: 297 ms\n",
      "Wall time: 299 ms\n"
     ]
    }
   ],
   "source": [
    "%%time\n",
    "\n",
    "# Benchmark for chain multiplication\n",
    "import numpy as np\n",
    "\n",
    "size = 100_000\n",
    "n_qubits = 12\n",
    "np.random.seed = 100\n",
    "\n",
    "testP = np.random.randint(0, 4, (size, n_qubits), dtype='uint8')\n",
    "#testC = np.ones(size)\n",
    "testC = np.random.normal(0.5, 1, size)\n",
    "\n",
    "experiment_data = []\n",
    "for i, (coef, paulis) in enumerate(zip(testC, testP)):\n",
    "    experiment_data.append([tuple(p for p in paulis), coef])\n",
    "experiment_data = tuple(experiment_data)\n",
    "#print(experiment_data[:10])"
   ]
  },
  {
   "cell_type": "code",
   "execution_count": 175,
   "id": "e0a65bc1-fe93-4f09-b442-03a324dc33ac",
   "metadata": {
    "execution": {
     "iopub.execute_input": "2022-11-12T04:24:28.642805Z",
     "iopub.status.busy": "2022-11-12T04:24:28.642805Z",
     "iopub.status.idle": "2022-11-12T04:24:28.730802Z",
     "shell.execute_reply": "2022-11-12T04:24:28.730802Z",
     "shell.execute_reply.started": "2022-11-12T04:24:28.642805Z"
    },
    "tags": []
   },
   "outputs": [
    {
     "data": {
      "text/plain": [
       "0.015625"
      ]
     },
     "execution_count": 175,
     "metadata": {},
     "output_type": "execute_result"
    },
    {
     "name": "stdout",
     "output_type": "stream",
     "text": [
      "((1, 1, 0, 1, 1, 0, 0, 1, 0, 1, 1, 1), 0.015625)\n",
      "((0, 0, 1, 1, 0, 0, 1, 1, 1, 0, 0, 0), 0.015625)\n",
      "((0, 0, 1, 1, 1, 0, 0, 1, 0, 1, 0, 0), 0.015625)\n",
      "((0, 0, 0, 0, 0, 1, 0, 1, 0, 1, 1, 1), 0.015625)\n",
      "((0, 1, 0, 1, 1, 0, 1, 1, 0, 0, 0, 0), 0.015625)\n",
      "((1, 0, 1, 0, 1, 0, 1, 0, 0, 1, 0, 0), 0.015625)\n",
      "((1, 0, 0, 1, 0, 0, 0, 0, 0, 1, 0, 0), 0.015625)\n",
      "((1, 1, 1, 0, 0, 1, 0, 1, 0, 0, 1, 0), 0.015625)\n",
      "((1, 1, 0, 1, 1, 0, 1, 1, 0, 1, 0, 1), 0.015625)\n",
      "((1, 0, 1, 1, 0, 0, 0, 1, 1, 0, 0, 0), 0.015625)\n",
      "((0, 0, 0, 0, 0, 1, 1, 1, 1, 0, 1, 0), 0.015625)\n"
     ]
    }
   ],
   "source": [
    "n_states = 32\n",
    "\n",
    "denominator = 1/np.sqrt(2**n_qubits)\n",
    "denominator\n",
    "\n",
    "right_state = np.random.randint(0, 2, (n_states, n_qubits), dtype='uint8').tolist()\n",
    "left_state = np.random.randint(0, 2, (n_states, n_qubits), dtype='uint8').tolist()\n",
    "\n",
    "pauli_list = experiment_data\n",
    "left_state = tuple(\n",
    "    (tuple(s), denominator)\n",
    "    for s in left_state\n",
    "    )\n",
    "right_state = tuple(\n",
    "    (tuple(s), denominator)\n",
    "    for s in right_state\n",
    "    )\n",
    "\n",
    "count = 0\n",
    "for row in left_state:\n",
    "    print(row)\n",
    "    count += 1\n",
    "    if count > 10:\n",
    "        break\n",
    "\n",
    "right_state = dict(right_state)\n",
    "left_state = dict(left_state)\n",
    "pauli_list = dict(pauli_list)"
   ]
  },
  {
   "cell_type": "markdown",
   "id": "65d9c579-aab2-4027-ac95-6208ec384b41",
   "metadata": {},
   "source": [
    "# Naive Trace Speed"
   ]
  },
  {
   "cell_type": "code",
   "execution_count": null,
   "id": "76e94616-cbdf-4a1e-80bf-0a1d521844bb",
   "metadata": {
    "tags": []
   },
   "outputs": [],
   "source": [
    "%%time\n",
    "\n",
    "from openfermion import QubitOperator as QO\n",
    "from openfermion import get_sparse_operator as sparse\n",
    "\n",
    "control_data = QO()\n",
    "for i,(paulis, coef) in enumerate(zip(testP, testC)):\n",
    "    term = tuple( (i, chr(87+p)) for i,p in enumerate(paulis) if p )\n",
    "    control_data += QO(term, coef)\n",
    "#print(control_data[:10])\n",
    "\n",
    "Ham = sparse(control_data)"
   ]
  },
  {
   "cell_type": "code",
   "execution_count": null,
   "id": "ee6dd15f-ef5b-4c57-9e39-f338cbb745b1",
   "metadata": {
    "tags": []
   },
   "outputs": [],
   "source": [
    "experiment_data"
   ]
  },
  {
   "cell_type": "code",
   "execution_count": null,
   "id": "981c1f72-dbd5-45f3-9765-565cbf844698",
   "metadata": {},
   "outputs": [],
   "source": [
    "left_state_np = np.array(list(left_state.keys()), dtype='uint8')\n",
    "right_state_np = np.array(list(right_state.keys()), dtype='uint8')"
   ]
  },
  {
   "cell_type": "code",
   "execution_count": null,
   "id": "0e7208bc-0224-4a3e-8b0e-2c00e1b8d84d",
   "metadata": {
    "tags": []
   },
   "outputs": [],
   "source": [
    "lvec = np.zeros(2**n_qubits)\n",
    "for l, cl in left_state.items():\n",
    "    l = np.array(l, dtype='uint8')\n",
    "    lvec[to_binary(l)] += cl\n",
    "lvec\n",
    "lvec.nonzero()"
   ]
  },
  {
   "cell_type": "code",
   "execution_count": null,
   "id": "2b59c960-451c-47dd-a784-ca3f7dee4c72",
   "metadata": {
    "tags": []
   },
   "outputs": [],
   "source": [
    "rvec = np.zeros(2**n_qubits)\n",
    "for l, cl in right_state.items():\n",
    "    l = np.array(l, dtype='uint8')\n",
    "    rvec[to_binary(l)] += cl\n",
    "rvec\n",
    "rvec.nonzero()"
   ]
  },
  {
   "cell_type": "code",
   "execution_count": null,
   "id": "966d121b-f345-4f44-b4da-b7f51f870e37",
   "metadata": {},
   "outputs": [],
   "source": [
    "%%time\n",
    "Ham.dot(np.outer(lvec, rvec)).trace"
   ]
  },
  {
   "cell_type": "code",
   "execution_count": null,
   "id": "c9455d9e-994f-449a-ae83-8075dbee0b98",
   "metadata": {},
   "outputs": [],
   "source": [
    "%%time\n",
    "np.outer(lvec.T, rvec)"
   ]
  },
  {
   "cell_type": "code",
   "execution_count": null,
   "id": "59c6379e-1f2d-477e-bffb-dab79a939698",
   "metadata": {
    "tags": []
   },
   "outputs": [],
   "source": [
    "%%time\n",
    "np.trace(Ham @ np.outer(lvec, rvec))"
   ]
  },
  {
   "cell_type": "code",
   "execution_count": null,
   "id": "4c85c8a2-88a1-4e2f-81be-7551d0299517",
   "metadata": {},
   "outputs": [],
   "source": [
    "%%time\n",
    "np.outer(lvec, rvec)"
   ]
  },
  {
   "cell_type": "code",
   "execution_count": null,
   "id": "26935fc3-454a-42fa-a575-54278f283e1c",
   "metadata": {
    "tags": []
   },
   "outputs": [],
   "source": [
    "%%time\n",
    "lvec @ Ham @ rvec"
   ]
  },
  {
   "cell_type": "code",
   "execution_count": null,
   "id": "9af97c88-1f8b-4044-8d14-e3f31e03dbe8",
   "metadata": {
    "tags": []
   },
   "outputs": [],
   "source": [
    "testP[:2]\n",
    "print(experiment_data[0])"
   ]
  },
  {
   "cell_type": "markdown",
   "id": "810a4ce1-802d-4905-9c73-4a6ef0162d76",
   "metadata": {},
   "source": [
    "## PurePython Speed"
   ]
  },
  {
   "cell_type": "code",
   "execution_count": 176,
   "id": "b71d72dd-2772-474c-9594-e55016fadea8",
   "metadata": {
    "execution": {
     "iopub.execute_input": "2022-11-12T04:24:31.959172Z",
     "iopub.status.busy": "2022-11-12T04:24:31.959172Z",
     "iopub.status.idle": "2022-11-12T04:24:32.043170Z",
     "shell.execute_reply": "2022-11-12T04:24:32.043170Z",
     "shell.execute_reply.started": "2022-11-12T04:24:31.959172Z"
    },
    "tags": []
   },
   "outputs": [
    {
     "name": "stdout",
     "output_type": "stream",
     "text": [
      "906\n",
      "(0, 1, 0, 0, 0, 0, 0, 0, 1, 1, 0, 0)\n",
      "(0, 0, 0, 0, 1, 0, 0, 0, 0, 0, 1, 1)\n",
      "(0, 0, 1, 1, 1, 0, 1, 1, 1, 1, 0, 1)\n",
      "(1, 0, 0, 0, 0, 1, 0, 0, 0, 0, 1, 1)\n",
      "(0, 0, 0, 0, 1, 0, 1, 0, 1, 1, 0, 0)\n",
      "(0, 0, 0, 1, 1, 0, 0, 1, 1, 1, 0, 1)\n",
      "CPU times: total: 15.6 ms\n",
      "Wall time: 28 ms\n"
     ]
    }
   ],
   "source": [
    "%%time\n",
    "valid_bitflips = set( tuple(l^r for l,r in zip(L,R)) for L in left_state for R in right_state )\n",
    "print(len(valid_bitflips))\n",
    "count = 0\n",
    "for row in valid_bitflips:\n",
    "    print(row)\n",
    "    count += 1\n",
    "    if count > 5:\n",
    "        break"
   ]
  },
  {
   "cell_type": "code",
   "execution_count": 177,
   "id": "79e588a9-216b-4062-8228-7a9943bca447",
   "metadata": {
    "execution": {
     "iopub.execute_input": "2022-11-12T04:24:32.244478Z",
     "iopub.status.busy": "2022-11-12T04:24:32.244478Z",
     "iopub.status.idle": "2022-11-12T04:24:37.623556Z",
     "shell.execute_reply": "2022-11-12T04:24:37.623556Z",
     "shell.execute_reply.started": "2022-11-12T04:24:32.244478Z"
    },
    "tags": []
   },
   "outputs": [
    {
     "name": "stdout",
     "output_type": "stream",
     "text": [
      "expect_val = (-0.007711647429912435-0.0006391002909370575j)\n",
      "miss = 685797\n",
      "CPU times: total: 5.3 s\n",
      "Wall time: 5.3 s\n"
     ]
    }
   ],
   "source": [
    "%%time\n",
    "\n",
    "# assume that you have already done encoding IXYZ into 0123\n",
    "#pauli_list = dict() # { binary pauli as tuple : coefficient }\n",
    "#left_state = dict() # { state as tuple : coefficient }\n",
    "#right_state = dict() # { state as tuple : coefficient }\n",
    "expect_val = 0\n",
    "miss = 0\n",
    "\n",
    "# This is how you compute the coefficient for PL\n",
    "# [ I X Y Z]\n",
    "from operator import itemgetter as itg\n",
    "from operator import mul\n",
    "from functools import reduce\n",
    "pl_coef = [None, None, [1j, -1j], [1, -1]]\n",
    "\n",
    "for P, cP in pauli_list.items():\n",
    "    #print(f\"{P, cP = }\")\n",
    "    bitflips = tuple( (p&1)^(p>>1) for p in P )\n",
    "    if bitflips in valid_bitflips:\n",
    "\n",
    "        for L, cL in left_state.items():\n",
    "            #print(f\"{L, cL = }\")\n",
    "            PL = tuple(p^l for p,l in zip(bitflips, L))\n",
    "\n",
    "            # This also check whether there is a pl==r\n",
    "            # At the sametime we can obtain the coefficient\n",
    "            cR = right_state.get(PL, None)\n",
    "            if cR is not None:\n",
    "                expect_val +=  cP * cL * cR * reduce(mul, (pl_coef[p][l] for p,l in zip(P,L) if p>1), 1)\n",
    "            else:\n",
    "                miss += 1\n",
    "            #    print(PL, 'unfound')\n",
    "\n",
    "print(f\"{expect_val = }\")\n",
    "print(f\"{miss = }\")"
   ]
  },
  {
   "cell_type": "markdown",
   "id": "59f161fa-1b35-4884-b39b-9551610b4a17",
   "metadata": {},
   "source": [
    "## Binary Numpy Speed"
   ]
  },
  {
   "cell_type": "code",
   "execution_count": 178,
   "id": "68917c1a-b19d-4557-a257-d8926ab166e9",
   "metadata": {
    "execution": {
     "iopub.execute_input": "2022-11-12T04:24:37.625559Z",
     "iopub.status.busy": "2022-11-12T04:24:37.625559Z",
     "iopub.status.idle": "2022-11-12T04:24:37.686559Z",
     "shell.execute_reply": "2022-11-12T04:24:37.686559Z",
     "shell.execute_reply.started": "2022-11-12T04:24:37.625559Z"
    },
    "tags": []
   },
   "outputs": [],
   "source": [
    "def to_binary(arr):\n",
    "    bin_ref = (2**np.arange(arr.shape[-1], dtype=np.uint64))[::-1]\n",
    "    return np.dot(arr, bin_ref)\n",
    "\n",
    "def get_valid_bitflips(left, right):\n",
    "    \"\"\"\n",
    "    Examples:\n",
    "        >>> get_valid_bitflips([[3]],[[5]])  # [[0,1,1]], [[1,0,1]]\n",
    "        6\n",
    "    \"\"\"\n",
    "    out = set()\n",
    "    for l in left:\n",
    "        out.update(l^right)\n",
    "    return out\n",
    "\n",
    "def pauli_to_bitflips(P):\n",
    "    \"\"\"\n",
    "    Examples:\n",
    "        >>> ppp = np.array([1,2,3], dtype='uint8')\n",
    "        >>> pauli_to_bitflips(ppp)\n",
    "        6\n",
    "    \"\"\"\n",
    "    return to_binary((P&1) ^ (P>>1))\n"
   ]
  },
  {
   "cell_type": "code",
   "execution_count": 179,
   "id": "373cd11d-9377-46cf-8355-9e42c1895f9b",
   "metadata": {
    "execution": {
     "iopub.execute_input": "2022-11-12T04:24:37.688562Z",
     "iopub.status.busy": "2022-11-12T04:24:37.688562Z",
     "iopub.status.idle": "2022-11-12T04:24:37.878558Z",
     "shell.execute_reply": "2022-11-12T04:24:37.878558Z",
     "shell.execute_reply.started": "2022-11-12T04:24:37.688562Z"
    },
    "tags": []
   },
   "outputs": [
    {
     "name": "stdout",
     "output_type": "stream",
     "text": [
      "906\n",
      "CPU times: total: 125 ms\n",
      "Wall time: 127 ms\n"
     ]
    }
   ],
   "source": [
    "%%time\n",
    "\n",
    "debug = 0\n",
    "\n",
    "left_state_np = np.array(list(left_state.keys()), dtype='uint8')\n",
    "left_state_keys = to_binary(left_state_np)  # [int, int, int, int, ...]\n",
    "left_state_bin = dict(zip(left_state_keys, left_state.items()))\n",
    "\n",
    "right_state_np = np.array(list(right_state.keys()), dtype='uint8')\n",
    "right_state_keys = to_binary(right_state_np)  # [int, int, int, int, ...]\n",
    "right_state_bin = dict(zip(right_state_keys, right_state.values()))\n",
    "\n",
    "if debug:\n",
    "    count = 0\n",
    "    for row in left_state_bin.items():\n",
    "        print(row)\n",
    "        count += 1\n",
    "        if count > 3:\n",
    "            break\n",
    "    count = 0\n",
    "    for row in right_state_bin.items():\n",
    "        print(row)\n",
    "        count += 1\n",
    "        if count > 3:\n",
    "            break\n",
    "\n",
    "# 1. XOR(left_state, right_state) to find the appropriate bitflips to make them matches\n",
    "valid_bitflips = get_valid_bitflips(left_state_keys, right_state_keys)\n",
    "print(len(valid_bitflips))\n",
    "if debug:\n",
    "    count = 0\n",
    "    for row in valid_bitflips:\n",
    "        print(row, bin(row))\n",
    "        count += 1\n",
    "        if count > 5:\n",
    "            break\n",
    "\n",
    "# 2. Translate Pauli's bitflip behaviour to binary representation\n",
    "pauli_list_np = np.array(list(pauli_list.keys()), dtype='uint8')\n",
    "bitflips_list = to_binary((pauli_list_np&1) ^ (pauli_list_np>>1))\n",
    "if debug:\n",
    "    count = 0\n",
    "    for row in bitflips_list:\n",
    "        print(row, bin(row))\n",
    "        count += 1\n",
    "        if count > 5:\n",
    "            break\n",
    "\n",
    "# 4. if and only if valid_bitflips\n",
    "valid_pauli_list = { p: (bitflips, cp) for bitflips, (p, cp) in zip(bitflips_list, pauli_list.items()) if bitflips in valid_bitflips }\n",
    "\n",
    "if debug:\n",
    "    count = 0\n",
    "    for row in valid_pauli_list.items():\n",
    "        print(row)\n",
    "        count += 1\n",
    "        if count > 3:\n",
    "            break"
   ]
  },
  {
   "cell_type": "code",
   "execution_count": 180,
   "id": "23bf34cb-c88f-412b-a993-806803ec7336",
   "metadata": {
    "execution": {
     "iopub.execute_input": "2022-11-12T04:24:37.880558Z",
     "iopub.status.busy": "2022-11-12T04:24:37.880558Z",
     "iopub.status.idle": "2022-11-12T04:24:38.661893Z",
     "shell.execute_reply": "2022-11-12T04:24:38.661893Z",
     "shell.execute_reply.started": "2022-11-12T04:24:37.880558Z"
    },
    "tags": []
   },
   "outputs": [
    {
     "name": "stdout",
     "output_type": "stream",
     "text": [
      "expect_val = (-0.007711647429912435-0.0006391002909370575j)\n",
      "missrate = 0.00%\n",
      "CPU times: total: 719 ms\n",
      "Wall time: 718 ms\n"
     ]
    }
   ],
   "source": [
    "%%time\n",
    "\n",
    "expect_val = 0\n",
    "miss = 0\n",
    "\n",
    "from operator import itemgetter as itg\n",
    "from operator import mul\n",
    "from functools import reduce\n",
    "# This is how you compute the coefficient for PL\n",
    "# [ I X Y Z]\n",
    "pl_coef = [None, None, [1j, -1j], [1, -1]]\n",
    "\n",
    "for P, (binbitflips, cP) in valid_pauli_list.items():\n",
    "    #print(f\"{P, bitflips, cP = }\")\n",
    "    for binL, (L, cL) in left_state_bin.items():\n",
    "        #print(f\"{L, cL = }\")\n",
    "        binPL = binL ^ binbitflips\n",
    "        # This also check whether there is a pl==r\n",
    "        # At the sametime we can obtain the coefficient\n",
    "        cR = right_state_bin.get(binPL, None)   # right_state_bin = { binR: (cR) }\n",
    "        if cR:\n",
    "            expect_val +=  cP * cL * cR * reduce(mul, (pl_coef[p][l] for p,l in zip(P,L) if p>1), 1)\n",
    "        else:\n",
    "            miss += 1\n",
    "\n",
    "print(f\"{expect_val = }\")\n",
    "print(f\"{missrate = :.2%}\")"
   ]
  },
  {
   "cell_type": "markdown",
   "id": "a6c91936-4de3-4ef6-8d60-2b87e19167fc",
   "metadata": {
    "execution": {
     "iopub.execute_input": "2022-11-11T06:13:34.392075Z",
     "iopub.status.busy": "2022-11-11T06:13:34.391075Z",
     "iopub.status.idle": "2022-11-11T06:13:34.482074Z",
     "shell.execute_reply": "2022-11-11T06:13:34.482074Z",
     "shell.execute_reply.started": "2022-11-11T06:13:34.392075Z"
    }
   },
   "source": [
    "## Binary Numpy BatchCoef Speed"
   ]
  },
  {
   "cell_type": "code",
   "execution_count": 181,
   "id": "c5ffcf32-da77-4f30-9cbe-070765af0cef",
   "metadata": {
    "execution": {
     "iopub.execute_input": "2022-11-12T04:24:38.662896Z",
     "iopub.status.busy": "2022-11-12T04:24:38.662896Z",
     "iopub.status.idle": "2022-11-12T04:24:39.058898Z",
     "shell.execute_reply": "2022-11-12T04:24:39.058898Z",
     "shell.execute_reply.started": "2022-11-12T04:24:38.662896Z"
    },
    "tags": []
   },
   "outputs": [
    {
     "name": "stdout",
     "output_type": "stream",
     "text": [
      "expect_val = (-0.007711647429912435-0.0006391002909370575j)\n",
      "CPU times: total: 328 ms\n",
      "Wall time: 329 ms\n"
     ]
    }
   ],
   "source": [
    "%%time\n",
    "\n",
    "#Ver.BatchCoef\n",
    "expect_val = 0\n",
    "miss = total = 0\n",
    "\n",
    "from operator import itemgetter as itg\n",
    "from operator import mul\n",
    "from functools import reduce, lru_cache\n",
    "\n",
    "# This is how you compute the coefficient for PL\n",
    "# [ I X Y Z]\n",
    "pl_coef = [None, None, [1j, -1j], [1, -1]]\n",
    "\n",
    "@lru_cache(maxsize=256)\n",
    "def _PaulizalCoef(_P, _L):\n",
    "    return reduce(mul, (pl_coef[p][l] for p,l in zip(_P,_L) if p>1), 1)\n",
    "\n",
    "def PaulizalCoef(P, L, pt=2):\n",
    "    return reduce(mul, (_PaulizalCoef(P[k:k+pt], L[k:k+pt]) for k in range(0, len(P), pt)) , 1)\n",
    "\n",
    "for P, (binbitflips, cP) in valid_pauli_list.items():\n",
    "    #print(f\"{P, bitflips, cP = }\")\n",
    "    for binL, (L, cL) in left_state_bin.items():\n",
    "        #print(f\"{L, cL = }\")\n",
    "        # This also check whether there is a pl==r\n",
    "        # At the sametime we can obtain the coefficient\n",
    "        cR = right_state_bin.get(binL ^ binbitflips, None)  # right_state_bin = { binR: (cR) }\n",
    "        if cR:\n",
    "            expect_val += cP * cL * cR * PaulizalCoef(P,L)\n",
    "\n",
    "print(f\"{expect_val = }\")"
   ]
  },
  {
   "cell_type": "markdown",
   "id": "d2a809e3-e145-441d-8bc8-3106f8158ddf",
   "metadata": {},
   "source": [
    "## Batch coef (?)"
   ]
  },
  {
   "cell_type": "code",
   "execution_count": null,
   "id": "0a98a136-e0d7-4fd1-adfa-a62e8bcbae4f",
   "metadata": {
    "tags": []
   },
   "outputs": [],
   "source": [
    "%%time\n",
    "from cProfile import run\n",
    "\n",
    "run(\"\"\"\n",
    "#Ver.BatchCoef\n",
    "expect_val = 0\n",
    "\n",
    "# This is how you compute the coefficient for PL\n",
    "# [ I X Y Z]\n",
    "from operator import itemgetter as itg\n",
    "from operator import mul\n",
    "from functools import reduce\n",
    "pl_coef = [None, None, [1j, -1j], [1, -1]]\n",
    "\n",
    "@lru_cache(maxsize=None)\n",
    "def _PaulizalCoef(_P, _L):\n",
    "    return reduce(mul, (pl_coef[p][l] for p,l in zip(_P,_L) if p>1), 1)\n",
    "\n",
    "def PaulizalCoef(P, L, pt=4):\n",
    "    return reduce(mul, (_PaulizalCoef(P[k:k+pt], L[k:k+pt]) for k in range(0, len(P), pt)) , 1)\n",
    "\n",
    "for P, (binbitflips, cP) in valid_pauli_list.items():\n",
    "    #print(f\"{P, bitflips, cP = }\")\n",
    "\n",
    "    for binL, (L, cL) in left_state_bin.items():\n",
    "        #print(f\"{L, cL = }\")\n",
    "        binPL = binL ^ binbitflips\n",
    "\n",
    "        # This also check whether there is a pl==r\n",
    "        # At the sametime we can obtain the coefficient\n",
    "        cR = right_state_bin.get(binPL, None)  # right_state = { binR: (R, cR) }\n",
    "        if cR is not None:\n",
    "            expect_val +=  cP * cL * cR[1] * PaulizalCoef(P,L)\n",
    "\n",
    "print(f\"{expect_val = }\")\n",
    "\"\"\")"
   ]
  },
  {
   "cell_type": "code",
   "execution_count": 182,
   "id": "9fca8b89-7404-4d31-84db-0ce8b265efc9",
   "metadata": {
    "execution": {
     "iopub.execute_input": "2022-11-12T04:24:40.099313Z",
     "iopub.status.busy": "2022-11-12T04:24:40.099313Z",
     "iopub.status.idle": "2022-11-12T04:24:40.163312Z",
     "shell.execute_reply": "2022-11-12T04:24:40.163312Z",
     "shell.execute_reply.started": "2022-11-12T04:24:40.099313Z"
    },
    "tags": []
   },
   "outputs": [
    {
     "name": "stdout",
     "output_type": "stream",
     "text": [
      "(2, 0, 2, 1) (0, 1, 0, 0)\n",
      "(3, 3, 2, 3) (1, 0, 1, 0)\n",
      "(3, 1, 0, 2) (0, 0, 1, 1)\n",
      "(3, 2) (0, 1)\n"
     ]
    }
   ],
   "source": [
    "P = (2, 0, 2, 1, 3, 3, 2, 3, 3, 1, 0, 2, 3, 2)\n",
    "L = (0, 1, 0, 0, 1, 0, 1, 0, 0, 0, 1, 1, 0, 1)\n",
    "\n",
    "pt = 4\n",
    "for k in range(0, len(P), pt):\n",
    "    end = k+pt\n",
    "    p = P[k:end]\n",
    "    l = L[k:end]\n",
    "    print(p, l)"
   ]
  },
  {
   "cell_type": "markdown",
   "id": "cfd9a282-6e36-450d-b860-5a233e8f9c36",
   "metadata": {},
   "source": [
    "# BitflipBridge"
   ]
  },
  {
   "cell_type": "code",
   "execution_count": 183,
   "id": "aead73be-1a8a-4989-9410-be96768041c4",
   "metadata": {
    "execution": {
     "iopub.execute_input": "2022-11-12T04:24:41.909412Z",
     "iopub.status.busy": "2022-11-12T04:24:41.909412Z",
     "iopub.status.idle": "2022-11-12T04:24:41.973411Z",
     "shell.execute_reply": "2022-11-12T04:24:41.973411Z",
     "shell.execute_reply.started": "2022-11-12T04:24:41.909412Z"
    },
    "tags": []
   },
   "outputs": [],
   "source": [
    "class BitflipBridge(dict):\n",
    "    \n",
    "    def __missing__(self, key):\n",
    "        out = self[key] = [[], []]\n",
    "        return out\n",
    "    \n",
    "\n",
    "def to_binary(arr):\n",
    "    bin_ref = (2**np.arange(arr.shape[-1], dtype=np.uint64))[::-1]\n",
    "    return np.dot(arr, bin_ref)\n",
    "\n",
    "def pauli_to_bitflips(P):\n",
    "    \"\"\"\n",
    "    Examples:\n",
    "        >>> ppp = np.array([1,2,3], dtype='uint8')\n",
    "        >>> pauli_to_bitflips(ppp)\n",
    "        6\n",
    "    \"\"\"\n",
    "    return to_binary((P&1) ^ (P>>1))\n"
   ]
  },
  {
   "cell_type": "code",
   "execution_count": 184,
   "id": "20d7ec97-5643-4f04-9fce-1a0db91c1a51",
   "metadata": {
    "execution": {
     "iopub.execute_input": "2022-11-12T04:24:42.374206Z",
     "iopub.status.busy": "2022-11-12T04:24:42.374206Z",
     "iopub.status.idle": "2022-11-12T04:24:42.789336Z",
     "shell.execute_reply": "2022-11-12T04:24:42.789336Z",
     "shell.execute_reply.started": "2022-11-12T04:24:42.374206Z"
    },
    "tags": []
   },
   "outputs": [
    {
     "name": "stdout",
     "output_type": "stream",
     "text": [
      "CPU times: total: 328 ms\n",
      "Wall time: 324 ms\n"
     ]
    }
   ],
   "source": [
    "%%time\n",
    "\n",
    "from cProfile import run\n",
    "from line_profiler import LineProfiler\n",
    "\n",
    "profile = LineProfiler()\n",
    "\n",
    "debug = 0\n",
    "\n",
    "left_state_npbin = to_binary(np.array(list(left_state.keys()), dtype='uint8'))\n",
    "left_state_dict = dict(zip(\n",
    "    left_state_npbin,\n",
    "    left_state.items()\n",
    "))\n",
    "\n",
    "right_state_npbin = to_binary(np.array(list(right_state.keys()), dtype='uint8'))\n",
    "right_state_dict = dict(zip(\n",
    "    right_state_npbin,\n",
    "    right_state.items()\n",
    "))\n",
    "\n",
    "bridge = BitflipBridge()\n",
    "\n",
    "for l, (tuplel, cl) in left_state_dict.items():\n",
    "    for bitflips, (r, (tupler, cr)) in zip(l^right_state_npbin, right_state_dict.items()):\n",
    "        bridge[bitflips][0].append((l, tuplel, cl, r, tupler, cr))\n",
    "\n",
    "# 2. Translate Pauli's bitflip behaviour to binary representation\n",
    "bitflips_list = pauli_to_bitflips(np.array(list(pauli_list.keys()), dtype='uint8'))\n",
    "#if debug:\n",
    "#    count = 0\n",
    "#    for row in bitflips_list:\n",
    "#        print(row, bin(row))\n",
    "#        count += 1\n",
    "#        if count > 5:\n",
    "#            break\n",
    "for bitflips, (tuplep, cp) in zip(bitflips_list, pauli_list.items()):\n",
    "    if bridge[bitflips][0]:\n",
    "        bridge[bitflips][1].append((tuplep, cp))\n",
    "\n",
    "if debug:\n",
    "    count = 0\n",
    "    for bf, (lr, p) in bridge.items():\n",
    "        print(bf)\n",
    "        print(lr)\n",
    "        print(p, '\\n')\n",
    "        count += 1\n",
    "        if count > 5:\n",
    "            break\n",
    "\n",
    "del left_state_dict\n",
    "del left_state_npbin\n",
    "del right_state_dict\n",
    "del right_state_npbin\n",
    "del bitflips_list\n",
    "\n"
   ]
  },
  {
   "cell_type": "code",
   "execution_count": 185,
   "id": "bdd2434e-cbac-4b19-980d-ad54bc550497",
   "metadata": {
    "execution": {
     "iopub.execute_input": "2022-11-12T04:24:43.153457Z",
     "iopub.status.busy": "2022-11-12T04:24:43.153457Z",
     "iopub.status.idle": "2022-11-12T04:24:43.360455Z",
     "shell.execute_reply": "2022-11-12T04:24:43.360455Z",
     "shell.execute_reply.started": "2022-11-12T04:24:43.153457Z"
    },
    "tags": []
   },
   "outputs": [
    {
     "name": "stdout",
     "output_type": "stream",
     "text": [
      "expect_val = (-0.007711647429912406-0.0006391002909369952j)\n",
      "total = 0\n",
      "CPU times: total: 156 ms\n",
      "Wall time: 147 ms\n"
     ]
    }
   ],
   "source": [
    "%%time\n",
    "\n",
    "#Ver.BatchCoef\n",
    "expect_val = 0\n",
    "\n",
    "from operator import itemgetter as itg\n",
    "from operator import mul\n",
    "from functools import reduce, lru_cache\n",
    "# This is how you compute the coefficient for PL\n",
    "# [ I X Y Z]\n",
    "pl_coef = [None, None, [1j, -1j], [1, -1]]\n",
    "\n",
    "@lru_cache(maxsize=256)\n",
    "def _PaulizalCoef(_P, _L):\n",
    "    return reduce(mul, (pl_coef[p][l] for p,l in zip(_P,_L) if p>1), 1)\n",
    "\n",
    "def PaulizalCoef(P, L, pt=2):\n",
    "    return reduce(mul, (_PaulizalCoef(P[k:k+pt], L[k:k+pt]) for k in range(0, len(P), pt)) , 1)\n",
    "\n",
    "for bf, (LRs, Ps) in bridge.items():\n",
    "    #print(f\"{P, bitflips, cP = }\")\n",
    "    for l, tuplel, cl, r, tupler, cr in LRs:\n",
    "        for tuplep, cp in Ps:\n",
    "            expect_val += cp * cl * cr * PaulizalCoef(tuplep,tuplel)\n",
    "\n",
    "print(f\"{expect_val = }\")"
   ]
  },
  {
   "cell_type": "code",
   "execution_count": null,
   "id": "886c1526-c4c5-4f8f-922f-88d98115d0f7",
   "metadata": {},
   "outputs": [],
   "source": []
  }
 ],
 "metadata": {
  "kernelspec": {
   "display_name": "mkl",
   "language": "python",
   "name": "mkl"
  },
  "language_info": {
   "codemirror_mode": {
    "name": "ipython",
    "version": 3
   },
   "file_extension": ".py",
   "mimetype": "text/x-python",
   "name": "python",
   "nbconvert_exporter": "python",
   "pygments_lexer": "ipython3",
   "version": "3.10.4"
  }
 },
 "nbformat": 4,
 "nbformat_minor": 5
}
